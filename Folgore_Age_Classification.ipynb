{
 "cells": [
  {
   "cell_type": "code",
   "execution_count": 1,
   "id": "bd1f061f",
   "metadata": {
    "ExecuteTime": {
     "end_time": "2023-09-17T20:40:54.407258Z",
     "start_time": "2023-09-17T20:40:35.022502Z"
    }
   },
   "outputs": [
    {
     "name": "stderr",
     "output_type": "stream",
     "text": [
      "[nltk_data] Downloading package punkt to\n",
      "[nltk_data]     C:\\Users\\user\\AppData\\Roaming\\nltk_data...\n",
      "[nltk_data]   Package punkt is already up-to-date!\n",
      "[nltk_data] Downloading package stopwords to\n",
      "[nltk_data]     C:\\Users\\user\\AppData\\Roaming\\nltk_data...\n",
      "[nltk_data]   Package stopwords is already up-to-date!\n"
     ]
    },
    {
     "data": {
      "text/plain": [
       "True"
      ]
     },
     "execution_count": 1,
     "metadata": {},
     "output_type": "execute_result"
    }
   ],
   "source": [
    "import pandas as pd\n",
    "from sklearn.naive_bayes import MultinomialNB\n",
    "from sklearn.feature_extraction.text import CountVectorizer\n",
    "from sklearn.model_selection import train_test_split, GridSearchCV\n",
    "from sklearn.linear_model import LogisticRegression\n",
    "from sklearn.metrics import accuracy_score, classification_report\n",
    "from sklearn.model_selection import cross_val_score\n",
    "from sklearn.feature_extraction.text import TfidfVectorizer\n",
    "from gensim.models import Word2Vec\n",
    "from gensim.utils import simple_preprocess\n",
    "import matplotlib.pyplot as plt\n",
    "import seaborn as sns\n",
    "import pickle\n",
    "import random\n",
    "import spacy\n",
    "from nltk.corpus import stopwords\n",
    "from nltk.tokenize import word_tokenize\n",
    "import nltk\n",
    "import re\n",
    "nltk.download('punkt')\n",
    "nltk.download('stopwords')"
   ]
  },
  {
   "cell_type": "code",
   "execution_count": 2,
   "id": "51b877be",
   "metadata": {
    "ExecuteTime": {
     "end_time": "2023-09-17T20:41:00.042883Z",
     "start_time": "2023-09-17T20:40:59.558007Z"
    }
   },
   "outputs": [],
   "source": [
    "# Load the spaCy model\n",
    "nlp = spacy.load(\"en_core_web_sm\")"
   ]
  },
  {
   "cell_type": "markdown",
   "id": "916fa0ae",
   "metadata": {},
   "source": [
    "# Folgore"
   ]
  },
  {
   "cell_type": "code",
   "execution_count": 3,
   "id": "b6e8f6fe",
   "metadata": {
    "ExecuteTime": {
     "end_time": "2023-09-17T20:41:02.107203Z",
     "start_time": "2023-09-17T20:41:02.077163Z"
    }
   },
   "outputs": [],
   "source": [
    "# Load the training dataset\n",
    "train_data = pd.read_csv(\"C:/Users/user/Documents/Bayes/ARP/ARP Topic/Codes/Codes/folgore_train_data.csv\", encoding='ISO-8859-1')\n",
    "# Load the prediction dataset \n",
    "prediction_data = pd.read_csv(\"C:/Users/user/Documents/Bayes/ARP/ARP Topic/Codes/Codes/folgore_test_data.csv\", encoding='ISO-8859-1')"
   ]
  },
  {
   "cell_type": "code",
   "execution_count": 4,
   "id": "f2634c6a",
   "metadata": {
    "ExecuteTime": {
     "end_time": "2023-09-17T20:41:09.680740Z",
     "start_time": "2023-09-17T20:41:03.883449Z"
    }
   },
   "outputs": [],
   "source": [
    "def preprocess_text(text):\n",
    "    # Replace NaN values with empty strings\n",
    "    text = str(text) if pd.notnull(text) else ''\n",
    "    # Remove special characters and formatting using regular expressions\n",
    "    text = re.sub(r'\\n', ' ', text)  # Replace newlines with spaces\n",
    "    text = re.sub(r'[^A-Za-z0-9\\s]', '', text)  # Remove special characters except spaces\n",
    "    \n",
    "    # Tokenize the text\n",
    "    tokens = word_tokenize(text)\n",
    "    \n",
    "    # Remove stopwords\n",
    "    filtered_tokens = [word for word in tokens if word.lower() not in stopwords.words('english')]\n",
    "    \n",
    "    # Process the filtered text with spaCy for POS tagging\n",
    "    doc = nlp(\" \".join(filtered_tokens))\n",
    "    \n",
    "    # Create a list of token information (word/POS_tag/POS)\n",
    "    processed_tokens = [f\"{token.text}/{token.tag_}/{token.pos_}\" for token in doc]\n",
    "    \n",
    "    # Join the processed tokens back into a sentence\n",
    "    processed_text = \" \".join(processed_tokens)\n",
    "    \n",
    "    return processed_text\n",
    "\n",
    "# Apply the preprocessing function to the 'Comment' column of your train dataset\n",
    "train_data['Processed_comment'] = train_data['Comment'].apply(preprocess_text)\n",
    "\n",
    "# Apply the preprocessing function to the 'Comment' column of your test dataset\n",
    "prediction_data['Processed_comment'] = prediction_data['Comment'].apply(preprocess_text)"
   ]
  },
  {
   "cell_type": "code",
   "execution_count": 5,
   "id": "0a45c1ba",
   "metadata": {
    "ExecuteTime": {
     "end_time": "2023-09-17T20:41:10.929001Z",
     "start_time": "2023-09-17T20:41:10.896382Z"
    }
   },
   "outputs": [
    {
     "name": "stdout",
     "output_type": "stream",
     "text": [
      "<class 'pandas.core.frame.DataFrame'>\n",
      "RangeIndex: 141 entries, 0 to 140\n",
      "Data columns (total 5 columns):\n",
      " #   Column             Non-Null Count  Dtype \n",
      "---  ------             --------------  ----- \n",
      " 0   Author             140 non-null    object\n",
      " 1   Date               140 non-null    object\n",
      " 2   Comment            140 non-null    object\n",
      " 3   Age_Group          141 non-null    int64 \n",
      " 4   Processed_comment  141 non-null    object\n",
      "dtypes: int64(1), object(4)\n",
      "memory usage: 5.6+ KB\n"
     ]
    }
   ],
   "source": [
    "train_data.info()"
   ]
  },
  {
   "cell_type": "code",
   "execution_count": 6,
   "id": "72e59078",
   "metadata": {
    "ExecuteTime": {
     "end_time": "2023-09-17T20:41:17.032006Z",
     "start_time": "2023-09-17T20:41:17.013934Z"
    }
   },
   "outputs": [],
   "source": [
    "# Remove rows with NaN values\n",
    "train_data = train_data.dropna()\n",
    "\n",
    "# Reset the index after removing rows\n",
    "train_data.reset_index(drop=True, inplace=True)"
   ]
  },
  {
   "cell_type": "code",
   "execution_count": 7,
   "id": "61697d2d",
   "metadata": {
    "ExecuteTime": {
     "end_time": "2023-09-17T20:41:18.242513Z",
     "start_time": "2023-09-17T20:41:18.219487Z"
    }
   },
   "outputs": [
    {
     "name": "stdout",
     "output_type": "stream",
     "text": [
      "<class 'pandas.core.frame.DataFrame'>\n",
      "RangeIndex: 140 entries, 0 to 139\n",
      "Data columns (total 5 columns):\n",
      " #   Column             Non-Null Count  Dtype \n",
      "---  ------             --------------  ----- \n",
      " 0   Author             140 non-null    object\n",
      " 1   Date               140 non-null    object\n",
      " 2   Comment            140 non-null    object\n",
      " 3   Age_Group          140 non-null    int64 \n",
      " 4   Processed_comment  140 non-null    object\n",
      "dtypes: int64(1), object(4)\n",
      "memory usage: 5.6+ KB\n"
     ]
    }
   ],
   "source": [
    "train_data.info()"
   ]
  },
  {
   "cell_type": "markdown",
   "id": "c389a610",
   "metadata": {},
   "source": [
    "## Naive Bayes Model"
   ]
  },
  {
   "cell_type": "code",
   "execution_count": 8,
   "id": "31907224",
   "metadata": {
    "ExecuteTime": {
     "end_time": "2023-09-17T20:41:21.076007Z",
     "start_time": "2023-09-17T20:41:21.024794Z"
    }
   },
   "outputs": [],
   "source": [
    "# Convert the training text data to a numerical representation using CountVectorizer\n",
    "vectorizer = CountVectorizer()\n",
    "X_train = vectorizer.fit_transform(train_data['Processed_comment'])  # Use 'Processed_comment' with a lowercase 'c'\n",
    "y_train = train_data['Age_Group']\n",
    "\n",
    "# Create and train a Multinomial Naive Bayes classifier\n",
    "clf = MultinomialNB()\n",
    "clf.fit(X_train, y_train)\n",
    "\n",
    "# Save the vectorizer object and trained classifier to files\n",
    "with open('vectorizer.pkl', 'wb') as vectorizer_file:\n",
    "    pickle.dump(vectorizer, vectorizer_file)\n",
    "with open('naive_bayes_model.pkl', 'wb') as model_file:\n",
    "    pickle.dump(clf, model_file)\n",
    "\n",
    "# Load the saved vectorizer and trained model for prediction\n",
    "with open('vectorizer.pkl', 'rb') as vectorizer_file:\n",
    "    loaded_vectorizer = pickle.load(vectorizer_file)\n",
    "with open('naive_bayes_model.pkl', 'rb') as model_file:\n",
    "    loaded_clf = pickle.load(model_file)\n",
    "\n",
    "# Convert the prediction text data to the same numerical representation\n",
    "X_pred = loaded_vectorizer.transform(prediction_data['Processed_comment'])\n",
    "\n",
    "# Predict age groups on the prediction dataset\n",
    "predicted_ages = loaded_clf.predict(X_pred)\n",
    "\n",
    "# Add the predicted ages to the prediction dataset\n",
    "prediction_data['predicted_age'] = predicted_ages\n",
    "\n",
    "# Save the prediction results to a new CSV file\n",
    "prediction_data.to_csv('Folgore_naive_bayes_predictions.csv', index=False)"
   ]
  },
  {
   "cell_type": "code",
   "execution_count": 9,
   "id": "30cd08cf",
   "metadata": {
    "ExecuteTime": {
     "end_time": "2023-09-17T20:41:24.450332Z",
     "start_time": "2023-09-17T20:41:24.429283Z"
    }
   },
   "outputs": [
    {
     "name": "stdout",
     "output_type": "stream",
     "text": [
      "Cross-validated accuracy scores: [0.28571429 0.35714286 0.32142857 0.25       0.21428571]\n",
      "Mean accuracy: 0.2857142857142857\n"
     ]
    }
   ],
   "source": [
    "# Perform cross-validation and get cross-validated accuracy scores\n",
    "scores = cross_val_score(clf, X_train, y_train, cv=5, scoring='accuracy')\n",
    "\n",
    "# Print the accuracy scores for each fold and the mean accuracy\n",
    "print(\"Cross-validated accuracy scores:\", scores)\n",
    "print(\"Mean accuracy:\", scores.mean())"
   ]
  },
  {
   "cell_type": "code",
   "execution_count": 11,
   "id": "93a28647",
   "metadata": {
    "ExecuteTime": {
     "end_time": "2023-09-17T20:41:54.164712Z",
     "start_time": "2023-09-17T20:41:54.142714Z"
    }
   },
   "outputs": [],
   "source": [
    "# Load the prediction results with predicted_age column\n",
    "prediction_data = pd.read_csv(\"C:/Users/user/Documents/Bayes/ARP/ARP Topic/Codes/Codes/Folgore_naive_bayes_predictions.csv\", encoding='utf-8')"
   ]
  },
  {
   "cell_type": "code",
   "execution_count": 12,
   "id": "c709a97f",
   "metadata": {
    "ExecuteTime": {
     "end_time": "2023-09-17T20:41:58.502704Z",
     "start_time": "2023-09-17T20:41:58.493653Z"
    }
   },
   "outputs": [
    {
     "name": "stdout",
     "output_type": "stream",
     "text": [
      "Age Group Counts:\n",
      "10    20\n",
      "30    19\n",
      "20     7\n",
      "40     1\n",
      "Name: predicted_age, dtype: int64\n"
     ]
    }
   ],
   "source": [
    "age_group_counts = prediction_data['predicted_age'].value_counts()\n",
    "print(\"Age Group Counts:\")\n",
    "print(age_group_counts)"
   ]
  },
  {
   "cell_type": "code",
   "execution_count": 13,
   "id": "66665819",
   "metadata": {
    "ExecuteTime": {
     "end_time": "2023-09-17T20:42:07.960605Z",
     "start_time": "2023-09-17T20:42:07.739100Z"
    }
   },
   "outputs": [
    {
     "data": {
      "image/png": "[encoded data removed]",
      "text/plain": [
       "<Figure size 576x432 with 1 Axes>"
      ]
     },
     "metadata": {
      "needs_background": "light"
     },
     "output_type": "display_data"
    }
   ],
   "source": [
    "# Create a bar plot using seaborn\n",
    "plt.figure(figsize=(8, 6))\n",
    "sns.countplot(x='predicted_age', data=prediction_data)\n",
    "plt.title(\"Age Group Distribution\")\n",
    "plt.xlabel(\"Age Group\")\n",
    "plt.ylabel(\"Count\")\n",
    "plt.show()"
   ]
  },
  {
   "cell_type": "markdown",
   "id": "c2f667cd",
   "metadata": {},
   "source": [
    "## TD-IDF With Naive Bayes"
   ]
  },
  {
   "cell_type": "code",
   "execution_count": 31,
   "id": "dbad9ac8",
   "metadata": {
    "ExecuteTime": {
     "end_time": "2023-09-17T20:55:05.376633Z",
     "start_time": "2023-09-17T20:55:05.284541Z"
    }
   },
   "outputs": [],
   "source": [
    "# Vectorize the comments using TF-IDF\n",
    "tfidf_vectorizer = TfidfVectorizer()\n",
    "X_train_tfidf = tfidf_vectorizer.fit_transform(train_data['Processed_comment'])\n",
    "\n",
    "# Train a Multinomial Naive Bayes classifier on the entire dataset\n",
    "naive_bayes_classifier = MultinomialNB()\n",
    "naive_bayes_classifier.fit(X_train_tfidf, train_data['Age_Group'])\n",
    "\n",
    "# Vectorize the comments in the prediction dataset using the same TF-IDF vectorizer\n",
    "X_pred_tfidf = tfidf_vectorizer.transform(prediction_data['Processed_comment'])\n",
    "\n",
    "# Predict age groups on the prediction dataset\n",
    "predicted_ages = naive_bayes_classifier.predict(X_pred_tfidf)\n",
    "\n",
    "# Add the predicted ages to the prediction dataset\n",
    "prediction_data['predicted_age'] = predicted_ages\n",
    "\n",
    "# Save the prediction results to a new CSV file\n",
    "prediction_data.to_csv('Folgore_TDIDF_predicted_ages.csv', index=False)"
   ]
  },
  {
   "cell_type": "code",
   "execution_count": 32,
   "id": "d93c5a44",
   "metadata": {
    "ExecuteTime": {
     "end_time": "2023-09-17T20:55:08.392190Z",
     "start_time": "2023-09-17T20:55:08.324572Z"
    }
   },
   "outputs": [
    {
     "name": "stdout",
     "output_type": "stream",
     "text": [
      "Average cross-validation accuracy: 0.2857142857142857\n"
     ]
    }
   ],
   "source": [
    "# Calculate the cross-validation accuracy of the classifier\n",
    "cross_val_scores = cross_val_score(naive_bayes_classifier, X_train_tfidf, train_data['Age_Group'], cv=5)\n",
    "print(\"Average cross-validation accuracy:\", np.mean(cross_val_scores))"
   ]
  },
  {
   "cell_type": "code",
   "execution_count": 33,
   "id": "9de75a12",
   "metadata": {
    "ExecuteTime": {
     "end_time": "2023-09-17T20:55:14.113763Z",
     "start_time": "2023-09-17T20:55:14.078673Z"
    }
   },
   "outputs": [
    {
     "name": "stdout",
     "output_type": "stream",
     "text": [
      "Training accuracy: 0.5642857142857143\n",
      "              precision    recall  f1-score   support\n",
      "\n",
      "          10       0.41      1.00      0.58        42\n",
      "          20       1.00      0.19      0.32        31\n",
      "          30       0.96      0.71      0.82        38\n",
      "          40       1.00      0.14      0.24        29\n",
      "\n",
      "    accuracy                           0.56       140\n",
      "   macro avg       0.84      0.51      0.49       140\n",
      "weighted avg       0.81      0.56      0.52       140\n",
      "\n"
     ]
    }
   ],
   "source": [
    "# Evaluate the classifier on the training data\n",
    "y_pred = clf.predict(X_train)\n",
    "print(\"Training accuracy:\", accuracy_score(y_train, y_pred))\n",
    "print(classification_report(y_train, y_pred))"
   ]
  },
  {
   "cell_type": "markdown",
   "id": "6b0a6cb3",
   "metadata": {
    "ExecuteTime": {
     "end_time": "2023-09-17T19:35:01.443582Z",
     "start_time": "2023-09-17T19:35:01.437070Z"
    }
   },
   "source": [
    "The cross-validation accuracy of 0.2857 is lower than the training accuracy of 0.5643, which suggests that the model is overfitting the training data."
   ]
  },
  {
   "cell_type": "code",
   "execution_count": 25,
   "id": "b3220e6a",
   "metadata": {
    "ExecuteTime": {
     "end_time": "2023-09-17T20:45:17.305746Z",
     "start_time": "2023-09-17T20:45:17.283067Z"
    }
   },
   "outputs": [],
   "source": [
    "prediction_data = pd.read_csv(\"C:/Users/user/Documents/Bayes/ARP/ARP Topic/Codes/Codes/Folgore_TDIDF_predicted_ages.csv\", encoding='utf-8')"
   ]
  },
  {
   "cell_type": "code",
   "execution_count": 26,
   "id": "c9d1431d",
   "metadata": {
    "ExecuteTime": {
     "end_time": "2023-09-17T20:45:31.935177Z",
     "start_time": "2023-09-17T20:45:31.909182Z"
    }
   },
   "outputs": [
    {
     "name": "stdout",
     "output_type": "stream",
     "text": [
      "Age Group Counts:\n",
      "10    43\n",
      "30     4\n",
      "Name: predicted_age, dtype: int64\n"
     ]
    }
   ],
   "source": [
    "age_group_counts = prediction_data['predicted_age'].value_counts()\n",
    "print(\"Age Group Counts:\")\n",
    "print(age_group_counts)"
   ]
  },
  {
   "cell_type": "code",
   "execution_count": 27,
   "id": "10014b28",
   "metadata": {
    "ExecuteTime": {
     "end_time": "2023-09-17T20:45:44.013512Z",
     "start_time": "2023-09-17T20:45:43.775983Z"
    }
   },
   "outputs": [
    {
     "data": {
      "image/png": "[encoded data removed]",
      "text/plain": [
       "<Figure size 576x432 with 1 Axes>"
      ]
     },
     "metadata": {
      "needs_background": "light"
     },
     "output_type": "display_data"
    }
   ],
   "source": [
    "# Create a bar plot using seaborn\n",
    "plt.figure(figsize=(8, 6))\n",
    "sns.countplot(x='predicted_age', data=prediction_data)\n",
    "plt.title(\"Age Group Distribution\")\n",
    "plt.xlabel(\"Age Group\")\n",
    "plt.ylabel(\"Count\")\n",
    "plt.show()"
   ]
  },
  {
   "cell_type": "markdown",
   "id": "7a1019bc",
   "metadata": {},
   "source": [
    "## Logistic Regression"
   ]
  },
  {
   "cell_type": "code",
   "execution_count": 17,
   "id": "5b5fa2d1",
   "metadata": {
    "ExecuteTime": {
     "end_time": "2023-09-17T20:43:28.283880Z",
     "start_time": "2023-09-17T20:43:28.260093Z"
    }
   },
   "outputs": [
    {
     "name": "stdout",
     "output_type": "stream",
     "text": [
      "<class 'pandas.core.frame.DataFrame'>\n",
      "RangeIndex: 140 entries, 0 to 139\n",
      "Data columns (total 5 columns):\n",
      " #   Column             Non-Null Count  Dtype \n",
      "---  ------             --------------  ----- \n",
      " 0   Author             140 non-null    object\n",
      " 1   Date               140 non-null    object\n",
      " 2   Comment            140 non-null    object\n",
      " 3   Age_Group          140 non-null    int64 \n",
      " 4   Processed_comment  140 non-null    object\n",
      "dtypes: int64(1), object(4)\n",
      "memory usage: 5.6+ KB\n"
     ]
    }
   ],
   "source": [
    "train_data.info()"
   ]
  },
  {
   "cell_type": "code",
   "execution_count": 18,
   "id": "d87c8ab0",
   "metadata": {
    "ExecuteTime": {
     "end_time": "2023-09-17T20:43:29.840682Z",
     "start_time": "2023-09-17T20:43:29.809664Z"
    }
   },
   "outputs": [
    {
     "name": "stdout",
     "output_type": "stream",
     "text": [
      "<class 'pandas.core.frame.DataFrame'>\n",
      "RangeIndex: 47 entries, 0 to 46\n",
      "Data columns (total 5 columns):\n",
      " #   Column             Non-Null Count  Dtype \n",
      "---  ------             --------------  ----- \n",
      " 0   Author             47 non-null     object\n",
      " 1   Date               47 non-null     object\n",
      " 2   Comment            47 non-null     object\n",
      " 3   Processed_comment  47 non-null     object\n",
      " 4   predicted_age      47 non-null     int64 \n",
      "dtypes: int64(1), object(4)\n",
      "memory usage: 2.0+ KB\n"
     ]
    }
   ],
   "source": [
    "prediction_data.info()"
   ]
  },
  {
   "cell_type": "code",
   "execution_count": 19,
   "id": "85539b3b",
   "metadata": {
    "ExecuteTime": {
     "end_time": "2023-09-17T20:43:30.685829Z",
     "start_time": "2023-09-17T20:43:30.488223Z"
    }
   },
   "outputs": [],
   "source": [
    "# Convert the text data to a numerical representation using TF-IDF\n",
    "vectorizer = TfidfVectorizer()\n",
    "X_train = vectorizer.fit_transform(train_data['Processed_comment'])\n",
    "X_pred = vectorizer.transform(prediction_data['Processed_comment'])\n",
    "\n",
    "# Train a Logistic Regression classifier\n",
    "clf = LogisticRegression(max_iter=1000)\n",
    "clf.fit(X_train, train_data['Age_Group'])\n",
    "\n",
    "# Predict the age groups for the prediction data\n",
    "predicted_ages = clf.predict(X_pred)\n",
    "\n",
    "# Add the predicted age groups to the prediction data\n",
    "prediction_data['predicted_age'] = predicted_ages\n",
    "\n",
    "# Save the prediction results to a new CSV file\n",
    "prediction_data.to_csv('Folgore_LR_age_classification', index=False)"
   ]
  },
  {
   "cell_type": "code",
   "execution_count": 20,
   "id": "a7e85ce1",
   "metadata": {
    "ExecuteTime": {
     "end_time": "2023-09-17T20:43:32.341876Z",
     "start_time": "2023-09-17T20:43:31.855143Z"
    }
   },
   "outputs": [
    {
     "name": "stdout",
     "output_type": "stream",
     "text": [
      "Average cross-validation accuracy: 0.21428571428571427\n"
     ]
    }
   ],
   "source": [
    "# Calculate the cross-validation accuracy of the classifier\n",
    "cross_val_scores = cross_val_score(clf, X_train, train_data['Age_Group'], cv=5)\n",
    "\n",
    "# Print the average cross-validation accuracy\n",
    "print(\"Average cross-validation accuracy:\", np.mean(cross_val_scores))"
   ]
  },
  {
   "cell_type": "markdown",
   "id": "47095e93",
   "metadata": {},
   "source": [
    "## Logistic Regression - N-gram Vectorization"
   ]
  },
  {
   "cell_type": "code",
   "execution_count": 21,
   "id": "ef1ecef9",
   "metadata": {
    "ExecuteTime": {
     "end_time": "2023-09-17T20:43:37.606509Z",
     "start_time": "2023-09-17T20:43:37.320680Z"
    }
   },
   "outputs": [],
   "source": [
    "# Convert the training text data to a numerical representation using CountVectorizer\n",
    "vectorizer = CountVectorizer(ngram_range=(1, 2), stop_words='english')\n",
    "X_train = vectorizer.fit_transform(train_data['Processed_comment'])\n",
    "y_train = train_data['Age_Group']\n",
    "\n",
    "# Create and train a Logistic Regression classifier\n",
    "clf = LogisticRegression(max_iter=1000, C=1.0, penalty='l2', solver='liblinear')\n",
    "clf.fit(X_train, y_train)\n",
    "\n",
    "# Convert the testing text data to the same numerical representation\n",
    "X_pred = vectorizer.transform(prediction_data['Processed_comment'])\n",
    "\n",
    "# Predict age groups on the testing dataset\n",
    "predicted_ages = clf.predict(X_pred)"
   ]
  },
  {
   "cell_type": "code",
   "execution_count": 22,
   "id": "20b1083b",
   "metadata": {
    "ExecuteTime": {
     "end_time": "2023-09-17T20:43:38.718422Z",
     "start_time": "2023-09-17T20:43:38.341482Z"
    }
   },
   "outputs": [
    {
     "name": "stdout",
     "output_type": "stream",
     "text": [
      "Average cross-validation accuracy: 0.24285714285714288\n"
     ]
    }
   ],
   "source": [
    "# Calculate the cross-validation accuracy of the classifier\n",
    "cross_val_scores = cross_val_score(clf, X_train, y_train, cv=5)\n",
    "print(\"Average cross-validation accuracy:\", np.mean(cross_val_scores))"
   ]
  },
  {
   "cell_type": "code",
   "execution_count": null,
   "id": "62553092",
   "metadata": {},
   "outputs": [],
   "source": []
  }
 ],
 "metadata": {
  "kernelspec": {
   "display_name": "Python 3 (ipykernel)",
   "language": "python",
   "name": "python3"
  },
  "language_info": {
   "codemirror_mode": {
    "name": "ipython",
    "version": 3
   },
   "file_extension": ".py",
   "mimetype": "text/x-python",
   "name": "python",
   "nbconvert_exporter": "python",
   "pygments_lexer": "ipython3",
   "version": "3.9.12"
  },
  "toc": {
   "base_numbering": 1,
   "nav_menu": {},
   "number_sections": true,
   "sideBar": true,
   "skip_h1_title": false,
   "title_cell": "Table of Contents",
   "title_sidebar": "Contents",
   "toc_cell": false,
   "toc_position": {},
   "toc_section_display": true,
   "toc_window_display": false
  },
  "varInspector": {
   "cols": {
    "lenName": 16,
    "lenType": 16,
    "lenVar": 40
   },
   "kernels_config": {
    "python": {
     "delete_cmd_postfix": "",
     "delete_cmd_prefix": "del ",
     "library": "var_list.py",
     "varRefreshCmd": "print(var_dic_list())"
    },
    "r": {
     "delete_cmd_postfix": ") ",
     "delete_cmd_prefix": "rm(",
     "library": "var_list.r",
     "varRefreshCmd": "cat(var_dic_list()) "
    }
   },
   "types_to_exclude": [
    "module",
    "function",
    "builtin_function_or_method",
    "instance",
    "_Feature"
   ],
   "window_display": false
  }
 },
 "nbformat": 4,
 "nbformat_minor": 5
}
