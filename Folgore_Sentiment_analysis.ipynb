{
 "cells": [
  {
   "cell_type": "markdown",
   "id": "8f35b89c",
   "metadata": {
    "ExecuteTime": {
     "end_time": "2023-09-17T21:27:24.742805Z",
     "start_time": "2023-09-17T21:27:24.726795Z"
    }
   },
   "source": [
    "# VADER Sentiment Scoring"
   ]
  },
  {
   "cell_type": "code",
   "execution_count": 2,
   "id": "28fe7736",
   "metadata": {
    "ExecuteTime": {
     "end_time": "2023-09-17T21:27:44.148108Z",
     "start_time": "2023-09-17T21:27:35.722997Z"
    }
   },
   "outputs": [],
   "source": [
    "import pandas as pd\n",
    "import nltk\n",
    "from nltk.sentiment.vader import SentimentIntensityAnalyzer\n",
    "import plotly.express as px\n",
    "import matplotlib.pyplot as plt"
   ]
  },
  {
   "cell_type": "code",
   "execution_count": null,
   "id": "127af497",
   "metadata": {},
   "outputs": [],
   "source": [
    "# Download the VADER lexicon if not already downloaded\n",
    "nltk.download(\"vader_lexicon\")"
   ]
  },
  {
   "cell_type": "markdown",
   "id": "f1eb8084",
   "metadata": {},
   "source": [
    "Here, I am using the Naive Bayes Model's results to perform sentiment analysis as i find them to be the most accurate."
   ]
  },
  {
   "cell_type": "code",
   "execution_count": 7,
   "id": "c93b7c1a",
   "metadata": {
    "ExecuteTime": {
     "end_time": "2023-09-17T21:30:18.069031Z",
     "start_time": "2023-09-17T21:30:18.041372Z"
    }
   },
   "outputs": [],
   "source": [
    "data = pd.read_csv(\"C:/Users/user/Documents/Bayes/ARP/ARP Topic/Codes/Codes/Folgore_naive_bayes_predictions.csv\", encoding='ISO-8859-1')"
   ]
  },
  {
   "cell_type": "code",
   "execution_count": 8,
   "id": "5d154214",
   "metadata": {
    "ExecuteTime": {
     "end_time": "2023-09-17T21:30:19.016182Z",
     "start_time": "2023-09-17T21:30:18.989575Z"
    }
   },
   "outputs": [
    {
     "name": "stdout",
     "output_type": "stream",
     "text": [
      "<class 'pandas.core.frame.DataFrame'>\n",
      "RangeIndex: 47 entries, 0 to 46\n",
      "Data columns (total 5 columns):\n",
      " #   Column             Non-Null Count  Dtype \n",
      "---  ------             --------------  ----- \n",
      " 0   Author             47 non-null     object\n",
      " 1   Date               47 non-null     object\n",
      " 2   Comment            47 non-null     object\n",
      " 3   Processed_comment  47 non-null     object\n",
      " 4   predicted_age      47 non-null     int64 \n",
      "dtypes: int64(1), object(4)\n",
      "memory usage: 2.0+ KB\n"
     ]
    }
   ],
   "source": [
    "data.info()"
   ]
  },
  {
   "cell_type": "code",
   "execution_count": 9,
   "id": "14dc7d16",
   "metadata": {
    "ExecuteTime": {
     "end_time": "2023-09-17T21:30:52.496616Z",
     "start_time": "2023-09-17T21:30:52.439030Z"
    }
   },
   "outputs": [],
   "source": [
    "# Initialize the sentiment analyzer\n",
    "sid = SentimentIntensityAnalyzer()"
   ]
  },
  {
   "cell_type": "code",
   "execution_count": 10,
   "id": "87d3aa5a",
   "metadata": {
    "ExecuteTime": {
     "end_time": "2023-09-17T21:30:58.966764Z",
     "start_time": "2023-09-17T21:30:58.761973Z"
    }
   },
   "outputs": [],
   "source": [
    "# Add new columns for original scores\n",
    "data[['neg', 'neu', 'pos', 'compound']] = data['Comment'].apply(lambda x: pd.Series(sid.polarity_scores(x)))"
   ]
  },
  {
   "cell_type": "code",
   "execution_count": 11,
   "id": "74b12dae",
   "metadata": {
    "ExecuteTime": {
     "end_time": "2023-09-17T21:31:04.603783Z",
     "start_time": "2023-09-17T21:31:04.584190Z"
    }
   },
   "outputs": [],
   "source": [
    "# Define a function to categorize sentiment\n",
    "def get_sentiment_category(score):\n",
    "    if score > 0:\n",
    "        return 1\n",
    "    elif score < 0:\n",
    "        return 0\n",
    "    else:\n",
    "        return 0"
   ]
  },
  {
   "cell_type": "code",
   "execution_count": 12,
   "id": "e56aa9a6",
   "metadata": {
    "ExecuteTime": {
     "end_time": "2023-09-17T21:31:14.165315Z",
     "start_time": "2023-09-17T21:31:14.031988Z"
    }
   },
   "outputs": [],
   "source": [
    "data['sentiment'] = data['Comment'].apply(lambda x: get_sentiment_category(sid.polarity_scores(x)['compound']))"
   ]
  },
  {
   "cell_type": "code",
   "execution_count": 14,
   "id": "3a880219",
   "metadata": {
    "ExecuteTime": {
     "end_time": "2023-09-17T21:31:33.006583Z",
     "start_time": "2023-09-17T21:31:32.996666Z"
    }
   },
   "outputs": [],
   "source": [
    "# Filter out neutral comments\n",
    "data_filtered = data[(data['sentiment'] == 1) | (data['sentiment'] == 0)]"
   ]
  },
  {
   "cell_type": "code",
   "execution_count": 15,
   "id": "75ee03a1",
   "metadata": {
    "ExecuteTime": {
     "end_time": "2023-09-17T21:31:39.877202Z",
     "start_time": "2023-09-17T21:31:39.845547Z"
    }
   },
   "outputs": [],
   "source": [
    "data_filtered.to_csv(\"Folgore_Sentiment_Analysis_final.csv\", index=False)"
   ]
  },
  {
   "cell_type": "markdown",
   "id": "f47ff412",
   "metadata": {},
   "source": [
    "# Visualisations"
   ]
  },
  {
   "cell_type": "code",
   "execution_count": 16,
   "id": "d85e9225",
   "metadata": {
    "ExecuteTime": {
     "end_time": "2023-09-17T21:32:00.519246Z",
     "start_time": "2023-09-17T21:32:00.499239Z"
    }
   },
   "outputs": [],
   "source": [
    "# Group by predicted age and sentiment\n",
    "grouped = data_filtered.groupby(['predicted_age', 'sentiment']).size().unstack()"
   ]
  },
  {
   "cell_type": "code",
   "execution_count": 17,
   "id": "0997a8c8",
   "metadata": {
    "ExecuteTime": {
     "end_time": "2023-09-17T21:32:20.056515Z",
     "start_time": "2023-09-17T21:32:19.510984Z"
    }
   },
   "outputs": [
    {
     "data": {
      "image/png": "[encoded data removed]",
      "text/plain": [
       "<Figure size 432x288 with 1 Axes>"
      ]
     },
     "metadata": {
      "needs_background": "light"
     },
     "output_type": "display_data"
    }
   ],
   "source": [
    "colors = ['#FFC2C2', '#AED6F1']\n",
    "\n",
    "# Plot the stacked bar chart\n",
    "ax = grouped.plot(kind='bar', stacked=True, color=colors)\n",
    "\n",
    "# Add chart labels and title\n",
    "plt.xlabel('Predicted Age')\n",
    "plt.ylabel('Number of Comments')\n",
    "plt.title('Sentiment Analysis Results by Age Group')\n",
    "\n",
    "handles, labels = ax.get_legend_handles_labels()\n",
    "labels = ['Negative', 'Positive']\n",
    "plt.legend(handles, labels, loc='upper left')\n",
    "plt.show()"
   ]
  },
  {
   "cell_type": "code",
   "execution_count": null,
   "id": "e7a2e5c0",
   "metadata": {},
   "outputs": [],
   "source": []
  }
 ],
 "metadata": {
  "kernelspec": {
   "display_name": "Python 3 (ipykernel)",
   "language": "python",
   "name": "python3"
  },
  "language_info": {
   "codemirror_mode": {
    "name": "ipython",
    "version": 3
   },
   "file_extension": ".py",
   "mimetype": "text/x-python",
   "name": "python",
   "nbconvert_exporter": "python",
   "pygments_lexer": "ipython3",
   "version": "3.9.12"
  },
  "toc": {
   "base_numbering": 1,
   "nav_menu": {},
   "number_sections": true,
   "sideBar": true,
   "skip_h1_title": false,
   "title_cell": "Table of Contents",
   "title_sidebar": "Contents",
   "toc_cell": false,
   "toc_position": {},
   "toc_section_display": true,
   "toc_window_display": false
  },
  "varInspector": {
   "cols": {
    "lenName": 16,
    "lenType": 16,
    "lenVar": 40
   },
   "kernels_config": {
    "python": {
     "delete_cmd_postfix": "",
     "delete_cmd_prefix": "del ",
     "library": "var_list.py",
     "varRefreshCmd": "print(var_dic_list())"
    },
    "r": {
     "delete_cmd_postfix": ") ",
     "delete_cmd_prefix": "rm(",
     "library": "var_list.r",
     "varRefreshCmd": "cat(var_dic_list()) "
    }
   },
   "types_to_exclude": [
    "module",
    "function",
    "builtin_function_or_method",
    "instance",
    "_Feature"
   ],
   "window_display": false
  }
 },
 "nbformat": 4,
 "nbformat_minor": 5
}
