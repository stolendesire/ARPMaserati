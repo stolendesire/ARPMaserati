{
 "cells": [
  {
   "cell_type": "markdown",
   "id": "d1162142",
   "metadata": {},
   "source": [
    "# VADER Sentiment Scoring"
   ]
  },
  {
   "cell_type": "code",
   "execution_count": 1,
   "id": "9fd3ae86",
   "metadata": {
    "ExecuteTime": {
     "end_time": "2023-09-17T21:38:25.955934Z",
     "start_time": "2023-09-17T21:38:17.738974Z"
    }
   },
   "outputs": [],
   "source": [
    "import pandas as pd\n",
    "import nltk\n",
    "from nltk.sentiment.vader import SentimentIntensityAnalyzer\n",
    "import plotly.express as px\n",
    "import matplotlib.pyplot as plt"
   ]
  },
  {
   "cell_type": "code",
   "execution_count": 2,
   "id": "7ef71a22",
   "metadata": {
    "ExecuteTime": {
     "end_time": "2023-09-17T21:38:38.832865Z",
     "start_time": "2023-09-17T21:38:38.646023Z"
    }
   },
   "outputs": [
    {
     "name": "stderr",
     "output_type": "stream",
     "text": [
      "[nltk_data] Downloading package vader_lexicon to\n",
      "[nltk_data]     C:\\Users\\user\\AppData\\Roaming\\nltk_data...\n",
      "[nltk_data]   Package vader_lexicon is already up-to-date!\n"
     ]
    },
    {
     "data": {
      "text/plain": [
       "True"
      ]
     },
     "execution_count": 2,
     "metadata": {},
     "output_type": "execute_result"
    }
   ],
   "source": [
    "nltk.download(\"vader_lexicon\")"
   ]
  },
  {
   "cell_type": "code",
   "execution_count": 3,
   "id": "608de6a4",
   "metadata": {
    "ExecuteTime": {
     "end_time": "2023-09-17T21:39:23.669157Z",
     "start_time": "2023-09-17T21:39:23.657450Z"
    }
   },
   "outputs": [],
   "source": [
    "# Sentiment Analysis on the results of the Naive Bayes Model"
   ]
  },
  {
   "cell_type": "code",
   "execution_count": 4,
   "id": "90374556",
   "metadata": {
    "ExecuteTime": {
     "end_time": "2023-09-17T21:39:48.528370Z",
     "start_time": "2023-09-17T21:39:48.507383Z"
    }
   },
   "outputs": [],
   "source": [
    "data = pd.read_csv(\"C:/Users/user/Documents/Bayes/ARP/ARP Topic/Codes/Codes/ICE_naive_bayes_predictions.csv\", encoding='ISO-8859-1')"
   ]
  },
  {
   "cell_type": "code",
   "execution_count": 6,
   "id": "2c406a79",
   "metadata": {
    "ExecuteTime": {
     "end_time": "2023-09-17T21:40:16.129003Z",
     "start_time": "2023-09-17T21:40:16.116459Z"
    }
   },
   "outputs": [],
   "source": [
    "# data.info()"
   ]
  },
  {
   "cell_type": "code",
   "execution_count": 7,
   "id": "9127a3a9",
   "metadata": {
    "ExecuteTime": {
     "end_time": "2023-09-17T21:40:29.255254Z",
     "start_time": "2023-09-17T21:40:29.141114Z"
    }
   },
   "outputs": [],
   "source": [
    "sid = SentimentIntensityAnalyzer()\n",
    "data[['neg', 'neu', 'pos', 'compound']] = data['Comment'].apply(lambda x: pd.Series(sid.polarity_scores(x)))"
   ]
  },
  {
   "cell_type": "code",
   "execution_count": 8,
   "id": "ef74b3d9",
   "metadata": {
    "ExecuteTime": {
     "end_time": "2023-09-17T21:40:38.829939Z",
     "start_time": "2023-09-17T21:40:38.822237Z"
    }
   },
   "outputs": [],
   "source": [
    "def get_sentiment_category(score):\n",
    "    if score > 0:\n",
    "        return 1\n",
    "    elif score < 0:\n",
    "        return 0\n",
    "    else:\n",
    "        return 0"
   ]
  },
  {
   "cell_type": "code",
   "execution_count": 10,
   "id": "e244330d",
   "metadata": {
    "ExecuteTime": {
     "end_time": "2023-09-17T21:40:51.208528Z",
     "start_time": "2023-09-17T21:40:51.149527Z"
    }
   },
   "outputs": [],
   "source": [
    "data['sentiment'] = data['Comment'].apply(lambda x: get_sentiment_category(sid.polarity_scores(x)['compound']))\n",
    "data_filtered = data[(data['sentiment'] == 1) | (data['sentiment'] == 0)]\n",
    "data_filtered.to_csv(\"FormulaE_Sentiment_Analysis_final.csv\", index=False)"
   ]
  },
  {
   "cell_type": "markdown",
   "id": "45839535",
   "metadata": {},
   "source": [
    "# Visualisations"
   ]
  },
  {
   "cell_type": "code",
   "execution_count": 11,
   "id": "bdd70afa",
   "metadata": {
    "ExecuteTime": {
     "end_time": "2023-09-17T21:41:51.704381Z",
     "start_time": "2023-09-17T21:41:51.182077Z"
    }
   },
   "outputs": [
    {
     "data": {
      "image/png": "[encoded data removed]",
      "text/plain": [
       "<Figure size 432x288 with 1 Axes>"
      ]
     },
     "metadata": {
      "needs_background": "light"
     },
     "output_type": "display_data"
    }
   ],
   "source": [
    "grouped = data_filtered.groupby(['predicted_age', 'sentiment']).size().unstack()\n",
    "\n",
    "colors = ['#FFC2C2', '#AED6F1']\n",
    "\n",
    "# Plot the stacked bar chart\n",
    "ax = grouped.plot(kind='bar', stacked=True, color=colors)\n",
    "\n",
    "# Add chart labels and title\n",
    "plt.xlabel('Predicted Age')\n",
    "plt.ylabel('Number of Comments')\n",
    "plt.title('Sentiment Analysis Results by Age Group')\n",
    "\n",
    "handles, labels = ax.get_legend_handles_labels()\n",
    "labels = ['Negative', 'Positive']\n",
    "plt.legend(handles, labels, loc='upper left')\n",
    "plt.show()"
   ]
  },
  {
   "cell_type": "code",
   "execution_count": null,
   "id": "dc2d7967",
   "metadata": {},
   "outputs": [],
   "source": []
  }
 ],
 "metadata": {
  "kernelspec": {
   "display_name": "Python 3 (ipykernel)",
   "language": "python",
   "name": "python3"
  },
  "language_info": {
   "codemirror_mode": {
    "name": "ipython",
    "version": 3
   },
   "file_extension": ".py",
   "mimetype": "text/x-python",
   "name": "python",
   "nbconvert_exporter": "python",
   "pygments_lexer": "ipython3",
   "version": "3.9.12"
  },
  "toc": {
   "base_numbering": 1,
   "nav_menu": {},
   "number_sections": true,
   "sideBar": true,
   "skip_h1_title": false,
   "title_cell": "Table of Contents",
   "title_sidebar": "Contents",
   "toc_cell": false,
   "toc_position": {},
   "toc_section_display": true,
   "toc_window_display": false
  },
  "varInspector": {
   "cols": {
    "lenName": 16,
    "lenType": 16,
    "lenVar": 40
   },
   "kernels_config": {
    "python": {
     "delete_cmd_postfix": "",
     "delete_cmd_prefix": "del ",
     "library": "var_list.py",
     "varRefreshCmd": "print(var_dic_list())"
    },
    "r": {
     "delete_cmd_postfix": ") ",
     "delete_cmd_prefix": "rm(",
     "library": "var_list.r",
     "varRefreshCmd": "cat(var_dic_list()) "
    }
   },
   "types_to_exclude": [
    "module",
    "function",
    "builtin_function_or_method",
    "instance",
    "_Feature"
   ],
   "window_display": false
  }
 },
 "nbformat": 4,
 "nbformat_minor": 5
}
