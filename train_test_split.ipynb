{
 "cells": [
  {
   "cell_type": "code",
   "execution_count": 16,
   "id": "64b81db2",
   "metadata": {
    "ExecuteTime": {
     "end_time": "2023-09-17T17:57:01.677000Z",
     "start_time": "2023-09-17T17:57:01.670037Z"
    }
   },
   "outputs": [],
   "source": [
    "import csv\n",
    "import pandas as pd\n",
    "import random\n",
    "from sklearn.model_selection import train_test_split"
   ]
  },
  {
   "cell_type": "markdown",
   "id": "5153e9d1",
   "metadata": {},
   "source": [
    "# Folgore"
   ]
  },
  {
   "cell_type": "code",
   "execution_count": 17,
   "id": "fca7ce4f",
   "metadata": {
    "ExecuteTime": {
     "end_time": "2023-09-17T17:57:02.901997Z",
     "start_time": "2023-09-17T17:57:02.879955Z"
    }
   },
   "outputs": [],
   "source": [
    "# Read the data\n",
    "data1 = pd.read_csv(\"C:/Users/user/Documents/Bayes/ARP/ARP Topic/Codes/Codes/Folgore.csv\", encoding='ISO-8859-1')"
   ]
  },
  {
   "cell_type": "code",
   "execution_count": 18,
   "id": "ec7aca9c",
   "metadata": {
    "ExecuteTime": {
     "end_time": "2023-09-17T17:57:03.608174Z",
     "start_time": "2023-09-17T17:57:03.583721Z"
    }
   },
   "outputs": [],
   "source": [
    "# Split the data into training and testing sets\n",
    "train_data, test_data = train_test_split(data1, test_size=0.25, random_state=42)\n",
    "\n",
    "age_groups = [\"10\", \"20\", \"30\", \"40\"]\n",
    "# Create a new column in the training data to store the random ages\n",
    "train_data['Age_Group'] = [random.choice(age_groups) for _ in range(len(train_data))]\n",
    "\n",
    "# Save the training and testing data into separate CSV files\n",
    "train_filename = \"folgore_train_data.csv\"\n",
    "test_filename = \"folgore_test_data.csv\""
   ]
  },
  {
   "cell_type": "code",
   "execution_count": 19,
   "id": "6ea3d8e0",
   "metadata": {
    "ExecuteTime": {
     "end_time": "2023-09-17T17:57:04.271688Z",
     "start_time": "2023-09-17T17:57:04.235080Z"
    }
   },
   "outputs": [
    {
     "name": "stdout",
     "output_type": "stream",
     "text": [
      "Data split and saved into train_data.csv and test_data.csv\n"
     ]
    }
   ],
   "source": [
    "# Convert DataFrames to list of lists\n",
    "train_data_rows = train_data.to_records(index=False).tolist()\n",
    "test_data_rows = test_data.to_records(index=False).tolist()\n",
    " \n",
    "# Write the data to CSV files\n",
    "with open(train_filename, 'w', newline='', encoding='utf-8') as train_file:\n",
    "    csv_writer = csv.writer(train_file)\n",
    "    csv_writer.writerow(train_data.columns)  # Writing the header\n",
    "    csv_writer.writerows(train_data_rows)\n",
    "\n",
    "with open(test_filename, 'w', newline='', encoding='utf-8') as test_file:\n",
    "    csv_writer = csv.writer(test_file)\n",
    "    csv_writer.writerow(test_data.columns)  # Writing the header\n",
    "    csv_writer.writerows(test_data_rows)\n",
    "\n",
    "print(\"Data split and saved into train_data.csv and test_data.csv\")"
   ]
  },
  {
   "cell_type": "code",
   "execution_count": 20,
   "id": "1227f70f",
   "metadata": {
    "ExecuteTime": {
     "end_time": "2023-09-17T17:57:05.817757Z",
     "start_time": "2023-09-17T17:57:05.790608Z"
    }
   },
   "outputs": [
    {
     "name": "stdout",
     "output_type": "stream",
     "text": [
      "<class 'pandas.core.frame.DataFrame'>\n",
      "Int64Index: 141 entries, 56 to 102\n",
      "Data columns (total 4 columns):\n",
      " #   Column     Non-Null Count  Dtype \n",
      "---  ------     --------------  ----- \n",
      " 0   Author     140 non-null    object\n",
      " 1   Date       140 non-null    object\n",
      " 2   Comment    140 non-null    object\n",
      " 3   Age_Group  141 non-null    object\n",
      "dtypes: object(4)\n",
      "memory usage: 5.5+ KB\n"
     ]
    }
   ],
   "source": [
    "train_data.info()"
   ]
  },
  {
   "cell_type": "code",
   "execution_count": 21,
   "id": "35c549b4",
   "metadata": {
    "ExecuteTime": {
     "end_time": "2023-09-17T17:57:08.905115Z",
     "start_time": "2023-09-17T17:57:08.873634Z"
    }
   },
   "outputs": [
    {
     "name": "stdout",
     "output_type": "stream",
     "text": [
      "<class 'pandas.core.frame.DataFrame'>\n",
      "Int64Index: 47 entries, 183 to 159\n",
      "Data columns (total 3 columns):\n",
      " #   Column   Non-Null Count  Dtype \n",
      "---  ------   --------------  ----- \n",
      " 0   Author   47 non-null     object\n",
      " 1   Date     47 non-null     object\n",
      " 2   Comment  47 non-null     object\n",
      "dtypes: object(3)\n",
      "memory usage: 1.5+ KB\n"
     ]
    }
   ],
   "source": [
    "test_data.info()"
   ]
  },
  {
   "cell_type": "markdown",
   "id": "4a9c662b",
   "metadata": {},
   "source": [
    "# Formula E"
   ]
  },
  {
   "cell_type": "code",
   "execution_count": 22,
   "id": "d740cfc0",
   "metadata": {
    "ExecuteTime": {
     "end_time": "2023-09-17T17:57:11.466005Z",
     "start_time": "2023-09-17T17:57:11.438936Z"
    }
   },
   "outputs": [],
   "source": [
    "data2 = pd.read_csv (\"C:/Users/user/Documents/Bayes/ARP/ARP Topic/Codes/Analysis/Formula_E.csv\", encoding='ISO-8859-1')"
   ]
  },
  {
   "cell_type": "code",
   "execution_count": 23,
   "id": "41153224",
   "metadata": {
    "ExecuteTime": {
     "end_time": "2023-09-17T17:57:12.887579Z",
     "start_time": "2023-09-17T17:57:12.877504Z"
    }
   },
   "outputs": [],
   "source": [
    "# Split the data into training and testing sets\n",
    "train_data, test_data = train_test_split(data2, test_size=0.25, random_state=42)\n",
    "\n",
    "age_groups = [\"10\", \"20\", \"30\", \"40\"]\n",
    "# Create a new column in the training data to store the random ages\n",
    "train_data['Age_Group'] = [random.choice(age_groups) for _ in range(len(train_data))]\n",
    "\n",
    "# Save the training and testing data into separate CSV files\n",
    "train_filename = \"formulae_train_data.csv\"\n",
    "test_filename = \"formulae_test_data.csv\""
   ]
  },
  {
   "cell_type": "code",
   "execution_count": 24,
   "id": "65b305bb",
   "metadata": {
    "ExecuteTime": {
     "end_time": "2023-09-17T17:57:13.842778Z",
     "start_time": "2023-09-17T17:57:13.817992Z"
    }
   },
   "outputs": [
    {
     "name": "stdout",
     "output_type": "stream",
     "text": [
      "Data split and saved into train_data.csv and test_data.csv\n"
     ]
    }
   ],
   "source": [
    "# Convert DataFrames to list of lists\n",
    "train_data_rows = train_data.to_records(index=False).tolist()\n",
    "test_data_rows = test_data.to_records(index=False).tolist()\n",
    " \n",
    "# Write the data to CSV files\n",
    "with open(train_filename, 'w', newline='', encoding='utf-8') as train_file:\n",
    "    csv_writer = csv.writer(train_file)\n",
    "    csv_writer.writerow(train_data.columns)  # Writing the header\n",
    "    csv_writer.writerows(train_data_rows)\n",
    "\n",
    "with open(test_filename, 'w', newline='', encoding='utf-8') as test_file:\n",
    "    csv_writer = csv.writer(test_file)\n",
    "    csv_writer.writerow(test_data.columns)  # Writing the header\n",
    "    csv_writer.writerows(test_data_rows)\n",
    "\n",
    "print(\"Data split and saved into train_data.csv and test_data.csv\")"
   ]
  },
  {
   "cell_type": "code",
   "execution_count": 25,
   "id": "cafa0569",
   "metadata": {
    "ExecuteTime": {
     "end_time": "2023-09-17T17:57:15.641649Z",
     "start_time": "2023-09-17T17:57:15.618556Z"
    }
   },
   "outputs": [
    {
     "name": "stdout",
     "output_type": "stream",
     "text": [
      "<class 'pandas.core.frame.DataFrame'>\n",
      "Int64Index: 40 entries, 34 to 38\n",
      "Data columns (total 4 columns):\n",
      " #   Column     Non-Null Count  Dtype \n",
      "---  ------     --------------  ----- \n",
      " 0   Author     40 non-null     object\n",
      " 1   Date       40 non-null     object\n",
      " 2   Comment    40 non-null     object\n",
      " 3   Age_Group  40 non-null     object\n",
      "dtypes: object(4)\n",
      "memory usage: 1.6+ KB\n"
     ]
    }
   ],
   "source": [
    "train_data.info()"
   ]
  },
  {
   "cell_type": "code",
   "execution_count": 26,
   "id": "7cd76220",
   "metadata": {
    "ExecuteTime": {
     "end_time": "2023-09-17T17:57:16.784838Z",
     "start_time": "2023-09-17T17:57:16.750582Z"
    }
   },
   "outputs": [
    {
     "name": "stdout",
     "output_type": "stream",
     "text": [
      "<class 'pandas.core.frame.DataFrame'>\n",
      "Int64Index: 14 entries, 19 to 6\n",
      "Data columns (total 3 columns):\n",
      " #   Column   Non-Null Count  Dtype \n",
      "---  ------   --------------  ----- \n",
      " 0   Author   14 non-null     object\n",
      " 1   Date     14 non-null     object\n",
      " 2   Comment  14 non-null     object\n",
      "dtypes: object(3)\n",
      "memory usage: 448.0+ bytes\n"
     ]
    }
   ],
   "source": [
    "test_data.info()"
   ]
  },
  {
   "cell_type": "markdown",
   "id": "ea16f624",
   "metadata": {},
   "source": [
    "# ICE"
   ]
  },
  {
   "cell_type": "code",
   "execution_count": 27,
   "id": "f85c9618",
   "metadata": {
    "ExecuteTime": {
     "end_time": "2023-09-17T17:57:21.127625Z",
     "start_time": "2023-09-17T17:57:21.106442Z"
    }
   },
   "outputs": [],
   "source": [
    "data3 = pd.read_csv(\"C:/Users/user/Documents/Bayes/ARP/ARP Topic/Codes/Analysis/ICE.csv\", encoding='ISO-8859-1')"
   ]
  },
  {
   "cell_type": "code",
   "execution_count": 28,
   "id": "1c1557a7",
   "metadata": {
    "ExecuteTime": {
     "end_time": "2023-09-17T17:57:21.993743Z",
     "start_time": "2023-09-17T17:57:21.978736Z"
    }
   },
   "outputs": [],
   "source": [
    "# Split the data into training and testing sets\n",
    "train_data, test_data = train_test_split(data3, test_size=0.25, random_state=42)\n",
    "\n",
    "age_groups = [\"10\", \"20\", \"30\", \"40\"]\n",
    "# Create a new column in the training data to store the random ages\n",
    "train_data['Age_Group'] = [random.choice(age_groups) for _ in range(len(train_data))]\n",
    "\n",
    "# Save the training and testing data into separate CSV files\n",
    "train_filename = \"ice_train_data.csv\"\n",
    "test_filename = \"ice_test_data.csv\""
   ]
  },
  {
   "cell_type": "code",
   "execution_count": 29,
   "id": "a2ddab5d",
   "metadata": {
    "ExecuteTime": {
     "end_time": "2023-09-17T17:57:23.352506Z",
     "start_time": "2023-09-17T17:57:23.315812Z"
    }
   },
   "outputs": [
    {
     "name": "stdout",
     "output_type": "stream",
     "text": [
      "Data split and saved into train_data.csv and test_data.csv\n"
     ]
    }
   ],
   "source": [
    "# Convert DataFrames to list of lists\n",
    "train_data_rows = train_data.to_records(index=False).tolist()\n",
    "test_data_rows = test_data.to_records(index=False).tolist()\n",
    " \n",
    "# Write the data to CSV files\n",
    "with open(train_filename, 'w', newline='', encoding='utf-8') as train_file:\n",
    "    csv_writer = csv.writer(train_file)\n",
    "    csv_writer.writerow(train_data.columns)  # Writing the header\n",
    "    csv_writer.writerows(train_data_rows)\n",
    "\n",
    "with open(test_filename, 'w', newline='', encoding='utf-8') as test_file:\n",
    "    csv_writer = csv.writer(test_file)\n",
    "    csv_writer.writerow(test_data.columns)  # Writing the header\n",
    "    csv_writer.writerows(test_data_rows)\n",
    "\n",
    "print(\"Data split and saved into train_data.csv and test_data.csv\")"
   ]
  },
  {
   "cell_type": "code",
   "execution_count": 30,
   "id": "8aeccd32",
   "metadata": {
    "ExecuteTime": {
     "end_time": "2023-09-17T17:57:32.333797Z",
     "start_time": "2023-09-17T17:57:32.308693Z"
    }
   },
   "outputs": [
    {
     "name": "stdout",
     "output_type": "stream",
     "text": [
      "<class 'pandas.core.frame.DataFrame'>\n",
      "Int64Index: 107 entries, 111 to 102\n",
      "Data columns (total 3 columns):\n",
      " #   Column     Non-Null Count  Dtype \n",
      "---  ------     --------------  ----- \n",
      " 0   Author     107 non-null    object\n",
      " 1   Comment    107 non-null    object\n",
      " 2   Age_Group  107 non-null    object\n",
      "dtypes: object(3)\n",
      "memory usage: 3.3+ KB\n"
     ]
    }
   ],
   "source": [
    "train_data.info()"
   ]
  },
  {
   "cell_type": "code",
   "execution_count": 31,
   "id": "27f07b83",
   "metadata": {
    "ExecuteTime": {
     "end_time": "2023-09-17T17:57:42.176280Z",
     "start_time": "2023-09-17T17:57:42.154814Z"
    }
   },
   "outputs": [
    {
     "name": "stdout",
     "output_type": "stream",
     "text": [
      "<class 'pandas.core.frame.DataFrame'>\n",
      "Int64Index: 36 entries, 117 to 93\n",
      "Data columns (total 2 columns):\n",
      " #   Column   Non-Null Count  Dtype \n",
      "---  ------   --------------  ----- \n",
      " 0   Author   36 non-null     object\n",
      " 1   Comment  36 non-null     object\n",
      "dtypes: object(2)\n",
      "memory usage: 864.0+ bytes\n"
     ]
    }
   ],
   "source": [
    "test_data.info()"
   ]
  },
  {
   "cell_type": "code",
   "execution_count": null,
   "id": "fb889863",
   "metadata": {},
   "outputs": [],
   "source": []
  }
 ],
 "metadata": {
  "kernelspec": {
   "display_name": "Python 3 (ipykernel)",
   "language": "python",
   "name": "python3"
  },
  "language_info": {
   "codemirror_mode": {
    "name": "ipython",
    "version": 3
   },
   "file_extension": ".py",
   "mimetype": "text/x-python",
   "name": "python",
   "nbconvert_exporter": "python",
   "pygments_lexer": "ipython3",
   "version": "3.9.12"
  },
  "toc": {
   "base_numbering": 1,
   "nav_menu": {},
   "number_sections": true,
   "sideBar": true,
   "skip_h1_title": false,
   "title_cell": "Table of Contents",
   "title_sidebar": "Contents",
   "toc_cell": false,
   "toc_position": {},
   "toc_section_display": true,
   "toc_window_display": false
  },
  "varInspector": {
   "cols": {
    "lenName": 16,
    "lenType": 16,
    "lenVar": 40
   },
   "kernels_config": {
    "python": {
     "delete_cmd_postfix": "",
     "delete_cmd_prefix": "del ",
     "library": "var_list.py",
     "varRefreshCmd": "print(var_dic_list())"
    },
    "r": {
     "delete_cmd_postfix": ") ",
     "delete_cmd_prefix": "rm(",
     "library": "var_list.r",
     "varRefreshCmd": "cat(var_dic_list()) "
    }
   },
   "types_to_exclude": [
    "module",
    "function",
    "builtin_function_or_method",
    "instance",
    "_Feature"
   ],
   "window_display": false
  }
 },
 "nbformat": 4,
 "nbformat_minor": 5
}
