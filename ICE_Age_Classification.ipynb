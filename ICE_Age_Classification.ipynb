{
 "cells": [
  {
   "cell_type": "code",
   "execution_count": 1,
   "id": "779c5ce7",
   "metadata": {
    "ExecuteTime": {
     "end_time": "2023-09-17T21:02:57.886869Z",
     "start_time": "2023-09-17T21:02:29.231497Z"
    }
   },
   "outputs": [
    {
     "name": "stderr",
     "output_type": "stream",
     "text": [
      "[nltk_data] Downloading package punkt to\n",
      "[nltk_data]     C:\\Users\\user\\AppData\\Roaming\\nltk_data...\n",
      "[nltk_data]   Package punkt is already up-to-date!\n",
      "[nltk_data] Downloading package stopwords to\n",
      "[nltk_data]     C:\\Users\\user\\AppData\\Roaming\\nltk_data...\n",
      "[nltk_data]   Package stopwords is already up-to-date!\n"
     ]
    },
    {
     "data": {
      "text/plain": [
       "True"
      ]
     },
     "execution_count": 1,
     "metadata": {},
     "output_type": "execute_result"
    }
   ],
   "source": [
    "import pandas as pd\n",
    "from sklearn.naive_bayes import MultinomialNB\n",
    "from sklearn.feature_extraction.text import CountVectorizer\n",
    "from sklearn.model_selection import train_test_split, GridSearchCV\n",
    "from sklearn.linear_model import LogisticRegression\n",
    "from sklearn.metrics import accuracy_score, classification_report\n",
    "from sklearn.model_selection import cross_val_score\n",
    "from sklearn.feature_extraction.text import TfidfVectorizer\n",
    "from gensim.models import Word2Vec\n",
    "from gensim.utils import simple_preprocess\n",
    "import matplotlib.pyplot as plt\n",
    "import seaborn as sns\n",
    "import pickle\n",
    "import random\n",
    "import spacy\n",
    "from nltk.corpus import stopwords\n",
    "from nltk.tokenize import word_tokenize\n",
    "import nltk\n",
    "import re\n",
    "nltk.download('punkt')\n",
    "nltk.download('stopwords')"
   ]
  },
  {
   "cell_type": "code",
   "execution_count": 2,
   "id": "2eb2fe07",
   "metadata": {
    "ExecuteTime": {
     "end_time": "2023-09-17T21:03:08.500589Z",
     "start_time": "2023-09-17T21:03:06.894118Z"
    }
   },
   "outputs": [],
   "source": [
    "nlp = spacy.load(\"en_core_web_sm\")"
   ]
  },
  {
   "cell_type": "markdown",
   "id": "8cc54a36",
   "metadata": {},
   "source": [
    "# ICE"
   ]
  },
  {
   "cell_type": "code",
   "execution_count": 3,
   "id": "697db665",
   "metadata": {
    "ExecuteTime": {
     "end_time": "2023-09-17T21:03:23.930353Z",
     "start_time": "2023-09-17T21:03:23.905887Z"
    }
   },
   "outputs": [],
   "source": [
    "train_data = pd.read_csv(\"C:/Users/user/Documents/Bayes/ARP/ARP Topic/Codes/Codes/ice_train_data.csv\", encoding='ISO-8859-1')\n",
    "prediction_data = pd.read_csv(\"C:/Users/user/Documents/Bayes/ARP/ARP Topic/Codes/Codes/ice_test_data.csv\", encoding='ISO-8859-1')"
   ]
  },
  {
   "cell_type": "code",
   "execution_count": 4,
   "id": "2e8d1120",
   "metadata": {
    "ExecuteTime": {
     "end_time": "2023-09-17T21:03:37.521680Z",
     "start_time": "2023-09-17T21:03:30.710943Z"
    }
   },
   "outputs": [],
   "source": [
    "def preprocess_text(text):\n",
    "    # Replace NaN values with empty strings\n",
    "    text = str(text) if pd.notnull(text) else ''\n",
    "    # Remove special characters and formatting using regular expressions\n",
    "    text = re.sub(r'\\n', ' ', text)  # Replace newlines with spaces\n",
    "    text = re.sub(r'[^A-Za-z0-9\\s]', '', text)  # Remove special characters except spaces\n",
    "    \n",
    "    # Tokenize the text\n",
    "    tokens = word_tokenize(text)\n",
    "    \n",
    "    # Remove stopwords\n",
    "    filtered_tokens = [word for word in tokens if word.lower() not in stopwords.words('english')]\n",
    "    \n",
    "    # Process the filtered text with spaCy for POS tagging\n",
    "    doc = nlp(\" \".join(filtered_tokens))\n",
    "    \n",
    "    # Create a list of token information (word/POS_tag/POS)\n",
    "    processed_tokens = [f\"{token.text}/{token.tag_}/{token.pos_}\" for token in doc]\n",
    "    \n",
    "    # Join the processed tokens back into a sentence\n",
    "    processed_text = \" \".join(processed_tokens)\n",
    "    \n",
    "    return processed_text\n",
    "\n",
    "# Apply the preprocessing function to the 'Comment' column of your train dataset\n",
    "train_data['Processed_comment'] = train_data['Comment'].apply(preprocess_text)\n",
    "\n",
    "# Apply the preprocessing function to the 'Comment' column of your test dataset\n",
    "prediction_data['Processed_comment'] = prediction_data['Comment'].apply(preprocess_text)"
   ]
  },
  {
   "cell_type": "code",
   "execution_count": 7,
   "id": "ff3b9f1e",
   "metadata": {
    "ExecuteTime": {
     "end_time": "2023-09-17T21:04:03.611584Z",
     "start_time": "2023-09-17T21:04:03.604440Z"
    }
   },
   "outputs": [],
   "source": [
    "#train_data.info()"
   ]
  },
  {
   "cell_type": "markdown",
   "id": "a2bd40ab",
   "metadata": {},
   "source": [
    "## Naive Bayes Model"
   ]
  },
  {
   "cell_type": "code",
   "execution_count": 10,
   "id": "686c0f71",
   "metadata": {
    "ExecuteTime": {
     "end_time": "2023-09-17T21:05:31.837656Z",
     "start_time": "2023-09-17T21:05:31.775910Z"
    }
   },
   "outputs": [],
   "source": [
    "# Convert the training text data to a numerical representation using CountVectorizer\n",
    "vectorizer = CountVectorizer()\n",
    "X_train = vectorizer.fit_transform(train_data['Processed_comment'])  # Use 'Processed_comment' with a lowercase 'c'\n",
    "y_train = train_data['Age_Group']\n",
    "\n",
    "# Create and train a Multinomial Naive Bayes classifier\n",
    "clf = MultinomialNB()\n",
    "clf.fit(X_train, y_train)\n",
    "\n",
    "with open('vectorizer.pkl', 'wb') as vectorizer_file:\n",
    "    pickle.dump(vectorizer, vectorizer_file)\n",
    "with open('naive_bayes_model.pkl', 'wb') as model_file:\n",
    "    pickle.dump(clf, model_file)\n",
    "\n",
    "with open('vectorizer.pkl', 'rb') as vectorizer_file:\n",
    "    loaded_vectorizer = pickle.load(vectorizer_file)\n",
    "with open('naive_bayes_model.pkl', 'rb') as model_file:\n",
    "    loaded_clf = pickle.load(model_file)\n",
    "\n",
    "# Convert the prediction text data to the same numerical representation\n",
    "X_pred = loaded_vectorizer.transform(prediction_data['Processed_comment'])\n",
    "predicted_ages = loaded_clf.predict(X_pred)\n",
    "prediction_data['predicted_age'] = predicted_ages\n",
    "prediction_data.to_csv('ICE_naive_bayes_predictions.csv', index=False)"
   ]
  },
  {
   "cell_type": "code",
   "execution_count": 12,
   "id": "51fcc2cb",
   "metadata": {
    "ExecuteTime": {
     "end_time": "2023-09-17T21:05:41.597310Z",
     "start_time": "2023-09-17T21:05:41.550877Z"
    }
   },
   "outputs": [
    {
     "name": "stdout",
     "output_type": "stream",
     "text": [
      "Cross-validated accuracy scores: [0.22727273 0.36363636 0.28571429 0.33333333 0.38095238]\n",
      "Mean accuracy: 0.3181818181818182\n"
     ]
    }
   ],
   "source": [
    "scores = cross_val_score(clf, X_train, y_train, cv=5, scoring='accuracy')\n",
    "print(\"Cross-validated accuracy scores:\", scores)\n",
    "print(\"Mean accuracy:\", scores.mean())"
   ]
  },
  {
   "cell_type": "code",
   "execution_count": 13,
   "id": "992d597e",
   "metadata": {
    "ExecuteTime": {
     "end_time": "2023-09-17T21:05:57.893499Z",
     "start_time": "2023-09-17T21:05:57.881538Z"
    }
   },
   "outputs": [],
   "source": [
    "prediction_data = pd.read_csv(\"C:/Users/user/Documents/Bayes/ARP/ARP Topic/Codes/Codes/ICE_naive_bayes_predictions.csv\", encoding='utf-8')"
   ]
  },
  {
   "cell_type": "code",
   "execution_count": 14,
   "id": "00d1a0e1",
   "metadata": {
    "ExecuteTime": {
     "end_time": "2023-09-17T21:06:10.234250Z",
     "start_time": "2023-09-17T21:06:10.220980Z"
    }
   },
   "outputs": [
    {
     "name": "stdout",
     "output_type": "stream",
     "text": [
      "Age Group Counts:\n",
      "20    30\n",
      "40     4\n",
      "30     2\n",
      "Name: predicted_age, dtype: int64\n"
     ]
    }
   ],
   "source": [
    "age_group_counts = prediction_data['predicted_age'].value_counts()\n",
    "print(\"Age Group Counts:\")\n",
    "print(age_group_counts)"
   ]
  },
  {
   "cell_type": "code",
   "execution_count": 15,
   "id": "bd428a0a",
   "metadata": {
    "ExecuteTime": {
     "end_time": "2023-09-17T21:06:20.494548Z",
     "start_time": "2023-09-17T21:06:20.153088Z"
    }
   },
   "outputs": [
    {
     "data": {
      "image/png": "[encoded data removed]",
      "text/plain": [
       "<Figure size 576x432 with 1 Axes>"
      ]
     },
     "metadata": {
      "needs_background": "light"
     },
     "output_type": "display_data"
    }
   ],
   "source": [
    "plt.figure(figsize=(8, 6))\n",
    "sns.countplot(x='predicted_age', data=prediction_data)\n",
    "plt.title(\"Age Group Distribution\")\n",
    "plt.xlabel(\"Age Group\")\n",
    "plt.ylabel(\"Count\")\n",
    "plt.show()"
   ]
  },
  {
   "cell_type": "markdown",
   "id": "33b98080",
   "metadata": {},
   "source": [
    "The majority of individuals in the predicted age group for Maserati's ICE car models fall into the \"20\" category, with a count of 30. This indicates that the model predicts a strong interest among people in their twenties for Maserati's ICE cars."
   ]
  },
  {
   "cell_type": "markdown",
   "id": "ada864cb",
   "metadata": {},
   "source": [
    "## TD-IDF with Naive Bayes"
   ]
  },
  {
   "cell_type": "code",
   "execution_count": 16,
   "id": "a9c42ff0",
   "metadata": {
    "ExecuteTime": {
     "end_time": "2023-09-17T21:07:07.548863Z",
     "start_time": "2023-09-17T21:07:07.482206Z"
    }
   },
   "outputs": [],
   "source": [
    "# Vectorize the comments using TF-IDF\n",
    "tfidf_vectorizer = TfidfVectorizer()\n",
    "X_train_tfidf = tfidf_vectorizer.fit_transform(train_data['Processed_comment'])\n",
    "\n",
    "# Train a Multinomial Naive Bayes classifier on the entire dataset\n",
    "naive_bayes_classifier = MultinomialNB()\n",
    "naive_bayes_classifier.fit(X_train_tfidf, train_data['Age_Group'])\n",
    "\n",
    "# Vectorize the comments in the prediction dataset using the same TF-IDF vectorizer\n",
    "X_pred_tfidf = tfidf_vectorizer.transform(prediction_data['Processed_comment'])\n",
    "\n",
    "predicted_ages = naive_bayes_classifier.predict(X_pred_tfidf)\n",
    "prediction_data['predicted_age'] = predicted_ages\n",
    "prediction_data.to_csv('ICE_TDIDF_predicted_ages.csv', index=False)"
   ]
  },
  {
   "cell_type": "code",
   "execution_count": 19,
   "id": "d1a0462f",
   "metadata": {
    "ExecuteTime": {
     "end_time": "2023-09-17T21:07:26.557842Z",
     "start_time": "2023-09-17T21:07:26.515561Z"
    }
   },
   "outputs": [
    {
     "name": "stdout",
     "output_type": "stream",
     "text": [
      "Average cross-validation accuracy: 0.3181818181818181\n"
     ]
    }
   ],
   "source": [
    "cross_val_scores = cross_val_score(naive_bayes_classifier, X_train_tfidf, train_data['Age_Group'], cv=5)\n",
    "print(\"Average cross-validation accuracy:\", np.mean(cross_val_scores))"
   ]
  },
  {
   "cell_type": "code",
   "execution_count": 20,
   "id": "15fcc8e2",
   "metadata": {
    "ExecuteTime": {
     "end_time": "2023-09-17T21:07:27.596654Z",
     "start_time": "2023-09-17T21:07:27.578006Z"
    }
   },
   "outputs": [
    {
     "name": "stdout",
     "output_type": "stream",
     "text": [
      "Training accuracy: 0.9252336448598131\n",
      "              precision    recall  f1-score   support\n",
      "\n",
      "          10       1.00      0.88      0.93        24\n",
      "          20       0.85      0.97      0.90        34\n",
      "          30       1.00      0.87      0.93        23\n",
      "          40       0.93      0.96      0.94        26\n",
      "\n",
      "    accuracy                           0.93       107\n",
      "   macro avg       0.94      0.92      0.93       107\n",
      "weighted avg       0.93      0.93      0.93       107\n",
      "\n"
     ]
    }
   ],
   "source": [
    "# Evaluate the classifier on the training data\n",
    "y_pred = clf.predict(X_train)\n",
    "print(\"Training accuracy:\", accuracy_score(y_train, y_pred))\n",
    "print(classification_report(y_train, y_pred))"
   ]
  },
  {
   "cell_type": "code",
   "execution_count": 21,
   "id": "fe279a12",
   "metadata": {
    "ExecuteTime": {
     "end_time": "2023-09-17T21:07:56.378009Z",
     "start_time": "2023-09-17T21:07:56.353014Z"
    }
   },
   "outputs": [],
   "source": [
    "prediction_data = pd.read_csv(\"C:/Users/user/Documents/Bayes/ARP/ARP Topic/Codes/Codes/ICE_TDIDF_predicted_ages.csv\", encoding='utf-8')"
   ]
  },
  {
   "cell_type": "code",
   "execution_count": 22,
   "id": "24c35523",
   "metadata": {
    "ExecuteTime": {
     "end_time": "2023-09-17T21:08:04.813716Z",
     "start_time": "2023-09-17T21:08:04.793724Z"
    }
   },
   "outputs": [
    {
     "name": "stdout",
     "output_type": "stream",
     "text": [
      "Age Group Counts:\n",
      "20    36\n",
      "Name: predicted_age, dtype: int64\n"
     ]
    }
   ],
   "source": [
    "age_group_counts = prediction_data['predicted_age'].value_counts()\n",
    "print(\"Age Group Counts:\")\n",
    "print(age_group_counts)"
   ]
  },
  {
   "cell_type": "markdown",
   "id": "ca9174c7",
   "metadata": {},
   "source": [
    "The Naive Bayes model assigns importance to different words or features in the text data. These important features may influence the TF-IDF model's term weighting. For example, words that are highly indicative of a specific age group according to the Naive Bayes model may receive higher TF-IDF scores in the TF-IDF model."
   ]
  },
  {
   "cell_type": "markdown",
   "id": "2e9150b3",
   "metadata": {},
   "source": [
    "TD-IDF with Naive Bayes gave you a count of 36 for the age group 20 is likely due to overfitting.\n",
    "\n",
    "It may have overly associated specific words or phrases with age group 20 during training. Consequently, when it evaluates a new comment, it quickly leans towards predicting age 20 if it spots any of these words or phrases, even if the comment should belong to a different age group."
   ]
  },
  {
   "cell_type": "markdown",
   "id": "a325adae",
   "metadata": {},
   "source": [
    "## Logistic Regression - N-gram Vectorization"
   ]
  },
  {
   "cell_type": "code",
   "execution_count": 24,
   "id": "e90a3768",
   "metadata": {
    "ExecuteTime": {
     "end_time": "2023-09-17T21:09:30.472448Z",
     "start_time": "2023-09-17T21:09:30.407031Z"
    }
   },
   "outputs": [],
   "source": [
    "# Convert the training text data to a numerical representation using CountVectorizer\n",
    "vectorizer = CountVectorizer(ngram_range=(1, 2), stop_words='english')\n",
    "X_train = vectorizer.fit_transform(train_data['Processed_comment'])\n",
    "y_train = train_data['Age_Group']\n",
    "\n",
    "# Create and train a Logistic Regression classifier\n",
    "clf = LogisticRegression(max_iter=1000, C=1.0, penalty='l2', solver='liblinear')\n",
    "clf.fit(X_train, y_train)\n",
    "\n",
    "X_pred = vectorizer.transform(prediction_data['Processed_comment'])\n",
    "predicted_ages = clf.predict(X_pred)"
   ]
  },
  {
   "cell_type": "code",
   "execution_count": 25,
   "id": "3b75cba8",
   "metadata": {
    "ExecuteTime": {
     "end_time": "2023-09-17T21:09:38.199561Z",
     "start_time": "2023-09-17T21:09:38.088283Z"
    }
   },
   "outputs": [
    {
     "name": "stdout",
     "output_type": "stream",
     "text": [
      "Average cross-validation accuracy: 0.24415584415584415\n"
     ]
    }
   ],
   "source": [
    "cross_val_scores = cross_val_score(clf, X_train, y_train, cv=5)\n",
    "print(\"Average cross-validation accuracy:\", np.mean(cross_val_scores))"
   ]
  },
  {
   "cell_type": "code",
   "execution_count": null,
   "id": "6642220f",
   "metadata": {},
   "outputs": [],
   "source": []
  }
 ],
 "metadata": {
  "kernelspec": {
   "display_name": "Python 3 (ipykernel)",
   "language": "python",
   "name": "python3"
  },
  "language_info": {
   "codemirror_mode": {
    "name": "ipython",
    "version": 3
   },
   "file_extension": ".py",
   "mimetype": "text/x-python",
   "name": "python",
   "nbconvert_exporter": "python",
   "pygments_lexer": "ipython3",
   "version": "3.9.12"
  },
  "toc": {
   "base_numbering": 1,
   "nav_menu": {},
   "number_sections": true,
   "sideBar": true,
   "skip_h1_title": false,
   "title_cell": "Table of Contents",
   "title_sidebar": "Contents",
   "toc_cell": false,
   "toc_position": {},
   "toc_section_display": true,
   "toc_window_display": false
  },
  "varInspector": {
   "cols": {
    "lenName": 16,
    "lenType": 16,
    "lenVar": 40
   },
   "kernels_config": {
    "python": {
     "delete_cmd_postfix": "",
     "delete_cmd_prefix": "del ",
     "library": "var_list.py",
     "varRefreshCmd": "print(var_dic_list())"
    },
    "r": {
     "delete_cmd_postfix": ") ",
     "delete_cmd_prefix": "rm(",
     "library": "var_list.r",
     "varRefreshCmd": "cat(var_dic_list()) "
    }
   },
   "types_to_exclude": [
    "module",
    "function",
    "builtin_function_or_method",
    "instance",
    "_Feature"
   ],
   "window_display": false
  }
 },
 "nbformat": 4,
 "nbformat_minor": 5
}
