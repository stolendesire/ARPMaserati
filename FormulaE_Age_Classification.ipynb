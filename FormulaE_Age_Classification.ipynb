{
 "cells": [
  {
   "cell_type": "code",
   "execution_count": 1,
   "id": "1a95ccf8",
   "metadata": {
    "ExecuteTime": {
     "end_time": "2023-09-17T20:47:13.883318Z",
     "start_time": "2023-09-17T20:46:46.235968Z"
    }
   },
   "outputs": [
    {
     "name": "stderr",
     "output_type": "stream",
     "text": [
      "[nltk_data] Downloading package punkt to\n",
      "[nltk_data]     C:\\Users\\user\\AppData\\Roaming\\nltk_data...\n",
      "[nltk_data]   Package punkt is already up-to-date!\n",
      "[nltk_data] Downloading package stopwords to\n",
      "[nltk_data]     C:\\Users\\user\\AppData\\Roaming\\nltk_data...\n",
      "[nltk_data]   Package stopwords is already up-to-date!\n"
     ]
    },
    {
     "data": {
      "text/plain": [
       "True"
      ]
     },
     "execution_count": 1,
     "metadata": {},
     "output_type": "execute_result"
    }
   ],
   "source": [
    "import pandas as pd\n",
    "from sklearn.naive_bayes import MultinomialNB\n",
    "from sklearn.feature_extraction.text import CountVectorizer\n",
    "from sklearn.model_selection import train_test_split, GridSearchCV\n",
    "from sklearn.linear_model import LogisticRegression\n",
    "from sklearn.metrics import accuracy_score, classification_report\n",
    "from sklearn.model_selection import cross_val_score\n",
    "from sklearn.feature_extraction.text import TfidfVectorizer\n",
    "from gensim.models import Word2Vec\n",
    "from gensim.utils import simple_preprocess\n",
    "import matplotlib.pyplot as plt\n",
    "import seaborn as sns\n",
    "import pickle\n",
    "import random\n",
    "import spacy\n",
    "from nltk.corpus import stopwords\n",
    "from nltk.tokenize import word_tokenize\n",
    "import nltk\n",
    "import re\n",
    "nltk.download('punkt')\n",
    "nltk.download('stopwords')"
   ]
  },
  {
   "cell_type": "code",
   "execution_count": 2,
   "id": "524e0154",
   "metadata": {
    "ExecuteTime": {
     "end_time": "2023-09-17T20:47:15.627465Z",
     "start_time": "2023-09-17T20:47:13.953113Z"
    }
   },
   "outputs": [],
   "source": [
    "# Load the spaCy model\n",
    "nlp = spacy.load(\"en_core_web_sm\")"
   ]
  },
  {
   "cell_type": "markdown",
   "id": "50e54a11",
   "metadata": {},
   "source": [
    "# Formula E"
   ]
  },
  {
   "cell_type": "code",
   "execution_count": 3,
   "id": "e99e9b3d",
   "metadata": {
    "ExecuteTime": {
     "end_time": "2023-09-17T20:47:47.785187Z",
     "start_time": "2023-09-17T20:47:47.760918Z"
    }
   },
   "outputs": [],
   "source": [
    "train_data = pd.read_csv(\"C:/Users/user/Documents/Bayes/ARP/ARP Topic/Codes/Codes/formulae_train_data.csv\", encoding='ISO-8859-1')\n",
    "prediction_data = pd.read_csv(\"C:/Users/user/Documents/Bayes/ARP/ARP Topic/Codes/Codes/formulae_test_data.csv\", encoding='ISO-8859-1')"
   ]
  },
  {
   "cell_type": "code",
   "execution_count": 7,
   "id": "74e57e17",
   "metadata": {
    "ExecuteTime": {
     "end_time": "2023-09-17T20:50:09.854876Z",
     "start_time": "2023-09-17T20:50:05.470383Z"
    }
   },
   "outputs": [],
   "source": [
    "def preprocess_text(text):\n",
    "    # Replace NaN values with empty strings\n",
    "    text = str(text) if pd.notnull(text) else ''\n",
    "    # Remove special characters and formatting using regular expressions\n",
    "    text = re.sub(r'\\n', ' ', text)  # Replace newlines with spaces\n",
    "    text = re.sub(r'[^A-Za-z0-9\\s]', '', text)  # Remove special characters except spaces\n",
    "    \n",
    "    # Tokenize the text\n",
    "    tokens = word_tokenize(text)\n",
    "    \n",
    "    # Remove stopwords\n",
    "    filtered_tokens = [word for word in tokens if word.lower() not in stopwords.words('english')]\n",
    "    \n",
    "    # Process the filtered text with spaCy for POS tagging\n",
    "    doc = nlp(\" \".join(filtered_tokens))\n",
    "    \n",
    "    # Create a list of token information (word/POS_tag/POS)\n",
    "    processed_tokens = [f\"{token.text}/{token.tag_}/{token.pos_}\" for token in doc]\n",
    "    \n",
    "    # Join the processed tokens back into a sentence\n",
    "    processed_text = \" \".join(processed_tokens)\n",
    "    \n",
    "    return processed_text\n",
    "\n",
    "# Apply the preprocessing function to the 'Comment' column of your train dataset\n",
    "train_data['Processed_comment'] = train_data['Comment'].apply(preprocess_text)\n",
    "\n",
    "# Apply the preprocessing function to the 'Comment' column of your test dataset\n",
    "prediction_data['Processed_comment'] = prediction_data['Comment'].apply(preprocess_text)"
   ]
  },
  {
   "cell_type": "code",
   "execution_count": 10,
   "id": "d2f966fa",
   "metadata": {
    "ExecuteTime": {
     "end_time": "2023-09-17T20:50:29.534490Z",
     "start_time": "2023-09-17T20:50:29.517986Z"
    }
   },
   "outputs": [],
   "source": [
    "#prediction_data.info()"
   ]
  },
  {
   "cell_type": "markdown",
   "id": "fc4c63e1",
   "metadata": {},
   "source": [
    "## Naive Bayes Model"
   ]
  },
  {
   "cell_type": "code",
   "execution_count": 11,
   "id": "6e4e89a3",
   "metadata": {
    "ExecuteTime": {
     "end_time": "2023-09-17T20:50:31.333633Z",
     "start_time": "2023-09-17T20:50:31.270564Z"
    }
   },
   "outputs": [],
   "source": [
    "# Convert the training text data to a numerical representation using CountVectorizer\n",
    "vectorizer = CountVectorizer()\n",
    "X_train = vectorizer.fit_transform(train_data['Processed_comment'])  # Use 'Processed_comment' with a lowercase 'c'\n",
    "y_train = train_data['Age_Group']\n",
    "\n",
    "# Create and train a Multinomial Naive Bayes classifier\n",
    "clf = MultinomialNB()\n",
    "clf.fit(X_train, y_train)\n",
    "\n",
    "with open('vectorizer.pkl', 'wb') as vectorizer_file:\n",
    "    pickle.dump(vectorizer, vectorizer_file)\n",
    "with open('naive_bayes_model.pkl', 'wb') as model_file:\n",
    "    pickle.dump(clf, model_file)\n",
    "\n",
    "with open('vectorizer.pkl', 'rb') as vectorizer_file:\n",
    "    loaded_vectorizer = pickle.load(vectorizer_file)\n",
    "with open('naive_bayes_model.pkl', 'rb') as model_file:\n",
    "    loaded_clf = pickle.load(model_file)\n",
    "\n",
    "# Convert the prediction text data to the same numerical representation\n",
    "X_pred = loaded_vectorizer.transform(prediction_data['Processed_comment'])\n",
    "predicted_ages = loaded_clf.predict(X_pred)\n",
    "prediction_data['predicted_age'] = predicted_ages\n",
    "prediction_data.to_csv('FormulaE_naive_bayes_predictions.csv', index=False)"
   ]
  },
  {
   "cell_type": "code",
   "execution_count": 12,
   "id": "ca1edea6",
   "metadata": {
    "ExecuteTime": {
     "end_time": "2023-09-17T20:50:34.666821Z",
     "start_time": "2023-09-17T20:50:34.622371Z"
    }
   },
   "outputs": [
    {
     "name": "stdout",
     "output_type": "stream",
     "text": [
      "Cross-validated accuracy scores: [0.375 0.375 0.125 0.25  0.5  ]\n",
      "Mean accuracy: 0.325\n"
     ]
    }
   ],
   "source": [
    "# Perform cross-validation and get cross-validated accuracy scores\n",
    "scores = cross_val_score(clf, X_train, y_train, cv=5, scoring='accuracy')\n",
    "\n",
    "# Print the accuracy scores for each fold and the mean accuracy\n",
    "print(\"Cross-validated accuracy scores:\", scores)\n",
    "print(\"Mean accuracy:\", scores.mean())"
   ]
  },
  {
   "cell_type": "code",
   "execution_count": 25,
   "id": "dff9d7e5",
   "metadata": {
    "ExecuteTime": {
     "end_time": "2023-09-17T20:56:41.513755Z",
     "start_time": "2023-09-17T20:56:41.493760Z"
    }
   },
   "outputs": [],
   "source": [
    "prediction_data = pd.read_csv(\"C:/Users/user/Documents/Bayes/ARP/ARP Topic/Codes/Codes/FormulaE_naive_bayes_predictions.csv\", encoding='utf-8')"
   ]
  },
  {
   "cell_type": "code",
   "execution_count": 26,
   "id": "232be901",
   "metadata": {
    "ExecuteTime": {
     "end_time": "2023-09-17T20:56:42.079591Z",
     "start_time": "2023-09-17T20:56:42.054352Z"
    }
   },
   "outputs": [
    {
     "name": "stdout",
     "output_type": "stream",
     "text": [
      "Age Group Counts:\n",
      "20    13\n",
      "10     1\n",
      "Name: predicted_age, dtype: int64\n"
     ]
    }
   ],
   "source": [
    "age_group_counts = prediction_data['predicted_age'].value_counts()\n",
    "print(\"Age Group Counts:\")\n",
    "print(age_group_counts)"
   ]
  },
  {
   "cell_type": "code",
   "execution_count": 27,
   "id": "2544c2ec",
   "metadata": {
    "ExecuteTime": {
     "end_time": "2023-09-17T20:56:46.052854Z",
     "start_time": "2023-09-17T20:56:45.710136Z"
    }
   },
   "outputs": [
    {
     "data": {
      "image/png": "[encoded data removed]",
      "text/plain": [
       "<Figure size 576x432 with 1 Axes>"
      ]
     },
     "metadata": {
      "needs_background": "light"
     },
     "output_type": "display_data"
    }
   ],
   "source": [
    "plt.figure(figsize=(8, 6))\n",
    "sns.countplot(x='predicted_age', data=prediction_data)\n",
    "plt.title(\"Age Group Distribution\")\n",
    "plt.xlabel(\"Age Group\")\n",
    "plt.ylabel(\"Count\")\n",
    "plt.show()"
   ]
  },
  {
   "cell_type": "markdown",
   "id": "56938f93",
   "metadata": {},
   "source": [
    "The model predicts that most people interested in Maserati's Formula E are likely to be in their twenties for data collected through blogs"
   ]
  },
  {
   "cell_type": "markdown",
   "id": "e2a5d890",
   "metadata": {},
   "source": [
    "## TD-IDF with Naive Bayes"
   ]
  },
  {
   "cell_type": "code",
   "execution_count": 20,
   "id": "617aab39",
   "metadata": {
    "ExecuteTime": {
     "end_time": "2023-09-17T20:54:53.426563Z",
     "start_time": "2023-09-17T20:54:53.380874Z"
    }
   },
   "outputs": [],
   "source": [
    "# Vectorize the comments using TF-IDF\n",
    "tfidf_vectorizer = TfidfVectorizer()\n",
    "X_train_tfidf = tfidf_vectorizer.fit_transform(train_data['Processed_comment'])\n",
    "\n",
    "# Train a Multinomial Naive Bayes classifier on the entire dataset\n",
    "naive_bayes_classifier = MultinomialNB()\n",
    "naive_bayes_classifier.fit(X_train_tfidf, train_data['Age_Group'])\n",
    "\n",
    "# Vectorize the comments in the prediction dataset using the same TF-IDF vectorizer\n",
    "X_pred_tfidf = tfidf_vectorizer.transform(prediction_data['Processed_comment'])\n",
    "\n",
    "predicted_ages = naive_bayes_classifier.predict(X_pred_tfidf)\n",
    "prediction_data['predicted_age'] = predicted_ages\n",
    "prediction_data.to_csv('FormulaE_TDIDF_predicted_ages.csv', index=False)"
   ]
  },
  {
   "cell_type": "code",
   "execution_count": 21,
   "id": "a2fbf204",
   "metadata": {
    "ExecuteTime": {
     "end_time": "2023-09-17T20:54:54.299477Z",
     "start_time": "2023-09-17T20:54:54.257452Z"
    }
   },
   "outputs": [
    {
     "name": "stdout",
     "output_type": "stream",
     "text": [
      "Average cross-validation accuracy: 0.325\n"
     ]
    }
   ],
   "source": [
    "cross_val_scores = cross_val_score(naive_bayes_classifier, X_train_tfidf, train_data['Age_Group'], cv=5)\n",
    "print(\"Average cross-validation accuracy:\", np.mean(cross_val_scores))"
   ]
  },
  {
   "cell_type": "code",
   "execution_count": 22,
   "id": "1bbd568a",
   "metadata": {
    "ExecuteTime": {
     "end_time": "2023-09-17T20:54:57.415522Z",
     "start_time": "2023-09-17T20:54:57.375858Z"
    }
   },
   "outputs": [
    {
     "name": "stdout",
     "output_type": "stream",
     "text": [
      "Training accuracy: 0.475\n",
      "              precision    recall  f1-score   support\n",
      "\n",
      "          10       0.00      0.00      0.00         7\n",
      "          20       0.38      1.00      0.55        13\n",
      "          30       1.00      0.36      0.53        11\n",
      "          40       1.00      0.22      0.36         9\n",
      "\n",
      "    accuracy                           0.48        40\n",
      "   macro avg       0.60      0.40      0.36        40\n",
      "weighted avg       0.62      0.47      0.41        40\n",
      "\n"
     ]
    },
    {
     "name": "stderr",
     "output_type": "stream",
     "text": [
      "C:\\Users\\user\\anaconda3\\lib\\site-packages\\sklearn\\metrics\\_classification.py:1318: UndefinedMetricWarning: Precision and F-score are ill-defined and being set to 0.0 in labels with no predicted samples. Use `zero_division` parameter to control this behavior.\n",
      "  _warn_prf(average, modifier, msg_start, len(result))\n",
      "C:\\Users\\user\\anaconda3\\lib\\site-packages\\sklearn\\metrics\\_classification.py:1318: UndefinedMetricWarning: Precision and F-score are ill-defined and being set to 0.0 in labels with no predicted samples. Use `zero_division` parameter to control this behavior.\n",
      "  _warn_prf(average, modifier, msg_start, len(result))\n",
      "C:\\Users\\user\\anaconda3\\lib\\site-packages\\sklearn\\metrics\\_classification.py:1318: UndefinedMetricWarning: Precision and F-score are ill-defined and being set to 0.0 in labels with no predicted samples. Use `zero_division` parameter to control this behavior.\n",
      "  _warn_prf(average, modifier, msg_start, len(result))\n"
     ]
    }
   ],
   "source": [
    "# Evaluate the classifier on the training data\n",
    "y_pred = clf.predict(X_train)\n",
    "print(\"Training accuracy:\", accuracy_score(y_train, y_pred))\n",
    "print(classification_report(y_train, y_pred))"
   ]
  },
  {
   "cell_type": "code",
   "execution_count": 23,
   "id": "81ae5ba2",
   "metadata": {
    "ExecuteTime": {
     "end_time": "2023-09-17T20:56:05.290514Z",
     "start_time": "2023-09-17T20:56:05.269306Z"
    }
   },
   "outputs": [],
   "source": [
    "prediction_data = pd.read_csv(\"C:/Users/user/Documents/Bayes/ARP/ARP Topic/Codes/Codes/FormulaE_TDIDF_predicted_ages.csv\", encoding='utf-8')"
   ]
  },
  {
   "cell_type": "code",
   "execution_count": 24,
   "id": "78beb157",
   "metadata": {
    "ExecuteTime": {
     "end_time": "2023-09-17T20:56:13.761223Z",
     "start_time": "2023-09-17T20:56:13.749292Z"
    }
   },
   "outputs": [
    {
     "name": "stdout",
     "output_type": "stream",
     "text": [
      "Age Group Counts:\n",
      "20    14\n",
      "Name: predicted_age, dtype: int64\n"
     ]
    }
   ],
   "source": [
    "age_group_counts = prediction_data['predicted_age'].value_counts()\n",
    "print(\"Age Group Counts:\")\n",
    "print(age_group_counts)"
   ]
  },
  {
   "cell_type": "markdown",
   "id": "c04036ef",
   "metadata": {},
   "source": [
    "It appears that both the Naive Bayes model and the Naive Bayes model with TF-IDF feature extraction have similar mean cross-validated accuracy scores of approximately 0.325. This suggests that the addition of TF-IDF may not have significantly improved the model's performance in terms of accuracy."
   ]
  },
  {
   "cell_type": "markdown",
   "id": "cf896f21",
   "metadata": {},
   "source": [
    "## Logistic Regression"
   ]
  },
  {
   "cell_type": "code",
   "execution_count": 28,
   "id": "9bd7f2f6",
   "metadata": {
    "ExecuteTime": {
     "end_time": "2023-09-17T20:57:36.486646Z",
     "start_time": "2023-09-17T20:57:36.418710Z"
    }
   },
   "outputs": [],
   "source": [
    "vectorizer = TfidfVectorizer()\n",
    "X_train = vectorizer.fit_transform(train_data['Processed_comment'])\n",
    "X_pred = vectorizer.transform(prediction_data['Processed_comment'])\n",
    "\n",
    "# Train a Logistic Regression classifier\n",
    "clf = LogisticRegression(max_iter=1000)\n",
    "clf.fit(X_train, train_data['Age_Group'])\n",
    "\n",
    "predicted_ages = clf.predict(X_pred)\n",
    "prediction_data['predicted_age'] = predicted_ages\n",
    "prediction_data.to_csv('FormulaE_LR_age_classification', index=False)"
   ]
  },
  {
   "cell_type": "code",
   "execution_count": 29,
   "id": "7e7af5e4",
   "metadata": {
    "ExecuteTime": {
     "end_time": "2023-09-17T20:57:49.715504Z",
     "start_time": "2023-09-17T20:57:49.529323Z"
    }
   },
   "outputs": [
    {
     "name": "stdout",
     "output_type": "stream",
     "text": [
      "Average cross-validation accuracy: 0.3\n"
     ]
    }
   ],
   "source": [
    "cross_val_scores = cross_val_score(clf, X_train, train_data['Age_Group'], cv=5)\n",
    "print(\"Average cross-validation accuracy:\", np.mean(cross_val_scores))"
   ]
  },
  {
   "cell_type": "markdown",
   "id": "b20529ed",
   "metadata": {},
   "source": [
    "## Logistic Regression - N-gram Vectorization"
   ]
  },
  {
   "cell_type": "code",
   "execution_count": 30,
   "id": "65f4c97f",
   "metadata": {
    "ExecuteTime": {
     "end_time": "2023-09-17T20:58:32.943229Z",
     "start_time": "2023-09-17T20:58:32.881962Z"
    }
   },
   "outputs": [],
   "source": [
    "# Convert the training text data to a numerical representation using CountVectorizer\n",
    "vectorizer = CountVectorizer(ngram_range=(1, 2), stop_words='english')\n",
    "X_train = vectorizer.fit_transform(train_data['Processed_comment'])\n",
    "y_train = train_data['Age_Group']\n",
    "\n",
    "# Create and train a Logistic Regression classifier\n",
    "clf = LogisticRegression(max_iter=1000, C=1.0, penalty='l2', solver='liblinear')\n",
    "clf.fit(X_train, y_train)\n",
    "\n",
    "X_pred = vectorizer.transform(prediction_data['Processed_comment'])\n",
    "predicted_ages = clf.predict(X_pred)"
   ]
  },
  {
   "cell_type": "code",
   "execution_count": 31,
   "id": "8ea81064",
   "metadata": {
    "ExecuteTime": {
     "end_time": "2023-09-17T20:58:41.041065Z",
     "start_time": "2023-09-17T20:58:40.948958Z"
    }
   },
   "outputs": [
    {
     "name": "stdout",
     "output_type": "stream",
     "text": [
      "Average cross-validation accuracy: 0.25\n"
     ]
    }
   ],
   "source": [
    "cross_val_scores = cross_val_score(clf, X_train, y_train, cv=5)\n",
    "print(\"Average cross-validation accuracy:\", np.mean(cross_val_scores))"
   ]
  },
  {
   "cell_type": "code",
   "execution_count": null,
   "id": "a990f900",
   "metadata": {},
   "outputs": [],
   "source": []
  }
 ],
 "metadata": {
  "kernelspec": {
   "display_name": "Python 3 (ipykernel)",
   "language": "python",
   "name": "python3"
  },
  "language_info": {
   "codemirror_mode": {
    "name": "ipython",
    "version": 3
   },
   "file_extension": ".py",
   "mimetype": "text/x-python",
   "name": "python",
   "nbconvert_exporter": "python",
   "pygments_lexer": "ipython3",
   "version": "3.9.12"
  },
  "toc": {
   "base_numbering": 1,
   "nav_menu": {},
   "number_sections": true,
   "sideBar": true,
   "skip_h1_title": false,
   "title_cell": "Table of Contents",
   "title_sidebar": "Contents",
   "toc_cell": false,
   "toc_position": {},
   "toc_section_display": true,
   "toc_window_display": false
  },
  "varInspector": {
   "cols": {
    "lenName": 16,
    "lenType": 16,
    "lenVar": 40
   },
   "kernels_config": {
    "python": {
     "delete_cmd_postfix": "",
     "delete_cmd_prefix": "del ",
     "library": "var_list.py",
     "varRefreshCmd": "print(var_dic_list())"
    },
    "r": {
     "delete_cmd_postfix": ") ",
     "delete_cmd_prefix": "rm(",
     "library": "var_list.r",
     "varRefreshCmd": "cat(var_dic_list()) "
    }
   },
   "types_to_exclude": [
    "module",
    "function",
    "builtin_function_or_method",
    "instance",
    "_Feature"
   ],
   "window_display": false
  }
 },
 "nbformat": 4,
 "nbformat_minor": 5
}
